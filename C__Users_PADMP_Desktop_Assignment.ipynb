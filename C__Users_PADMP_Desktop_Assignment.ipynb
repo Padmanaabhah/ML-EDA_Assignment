{
 "cells": [
  {
   "cell_type": "code",
   "execution_count": 383,
   "metadata": {},
   "outputs": [],
   "source": [
    "import numpy as np, pandas as pd, seaborn as sns, matplotlib.pyplot as plt\n",
    "pd.set_option('display.float_format', lambda x: '%.5f' % x)"
   ]
  },
  {
   "cell_type": "markdown",
   "metadata": {},
   "source": [
    "### Read companies data"
   ]
  },
  {
   "cell_type": "code",
   "execution_count": 384,
   "metadata": {},
   "outputs": [],
   "source": [
    "companies = pd.read_csv(\"companies.csv\", encoding = \"ISO-8859-1\", engine='python')"
   ]
  },
  {
   "cell_type": "markdown",
   "metadata": {},
   "source": [
    "### Check if permalink has null values before getting unique values"
   ]
  },
  {
   "cell_type": "code",
   "execution_count": 385,
   "metadata": {},
   "outputs": [
    {
     "data": {
      "text/plain": [
       "permalink            0\n",
       "name                 1\n",
       "homepage_url      5058\n",
       "category_list     3148\n",
       "status               0\n",
       "country_code      6958\n",
       "state_code        8547\n",
       "region            8030\n",
       "city              8028\n",
       "founded_at       15221\n",
       "dtype: int64"
      ]
     },
     "execution_count": 385,
     "metadata": {},
     "output_type": "execute_result"
    }
   ],
   "source": [
    "companies.isnull().sum()"
   ]
  },
  {
   "cell_type": "markdown",
   "metadata": {},
   "source": [
    "## Get Unique values from companies data"
   ]
  },
  {
   "cell_type": "code",
   "execution_count": 386,
   "metadata": {},
   "outputs": [
    {
     "name": "stdout",
     "output_type": "stream",
     "text": [
      "66368\n"
     ]
    }
   ],
   "source": [
    "print(len(companies['permalink'].unique()))"
   ]
  },
  {
   "cell_type": "markdown",
   "metadata": {},
   "source": [
    "### Read rounds2 file"
   ]
  },
  {
   "cell_type": "code",
   "execution_count": 387,
   "metadata": {},
   "outputs": [],
   "source": [
    "rounds2 = pd.read_csv(\"rounds2.csv\", encoding = \"ISO-8859-1\", engine='python')"
   ]
  },
  {
   "cell_type": "markdown",
   "metadata": {},
   "source": [
    "### check if 'company_permalink' has null values before getting unique values"
   ]
  },
  {
   "cell_type": "code",
   "execution_count": 388,
   "metadata": {},
   "outputs": [
    {
     "data": {
      "text/plain": [
       "0"
      ]
     },
     "execution_count": 388,
     "metadata": {},
     "output_type": "execute_result"
    }
   ],
   "source": [
    "rounds2['company_permalink'].isnull().sum()"
   ]
  },
  {
   "cell_type": "markdown",
   "metadata": {},
   "source": [
    "## Unique values of 'company_permalink' of rounds2 values"
   ]
  },
  {
   "cell_type": "code",
   "execution_count": 389,
   "metadata": {},
   "outputs": [
    {
     "data": {
      "text/plain": [
       "90247"
      ]
     },
     "execution_count": 389,
     "metadata": {},
     "output_type": "execute_result"
    }
   ],
   "source": [
    "len(rounds2['company_permalink'].unique())"
   ]
  },
  {
   "cell_type": "markdown",
   "metadata": {},
   "source": [
    "### set companies -> \"permalink\" upper to map with rounds2 -> \"company_permalink\" "
   ]
  },
  {
   "cell_type": "code",
   "execution_count": 390,
   "metadata": {},
   "outputs": [],
   "source": [
    "companies[\"permalink\"] = companies[\"permalink\"].apply(lambda x: x.strip().upper()) "
   ]
  },
  {
   "cell_type": "markdown",
   "metadata": {},
   "source": [
    "### set rounds2 -> \"company_permalink\" upper to map with companies -> \"permalink\""
   ]
  },
  {
   "cell_type": "code",
   "execution_count": 391,
   "metadata": {},
   "outputs": [],
   "source": [
    "rounds2[\"company_permalink\"] = rounds2[\"company_permalink\"].apply(lambda x: x.strip().upper()) "
   ]
  },
  {
   "cell_type": "markdown",
   "metadata": {},
   "source": [
    "### Mapping rounds2 with companies return records with junk characters."
   ]
  },
  {
   "cell_type": "code",
   "execution_count": 392,
   "metadata": {
    "scrolled": true
   },
   "outputs": [
    {
     "data": {
      "text/html": [
       "<div>\n",
       "<style scoped>\n",
       "    .dataframe tbody tr th:only-of-type {\n",
       "        vertical-align: middle;\n",
       "    }\n",
       "\n",
       "    .dataframe tbody tr th {\n",
       "        vertical-align: top;\n",
       "    }\n",
       "\n",
       "    .dataframe thead th {\n",
       "        text-align: right;\n",
       "    }\n",
       "</style>\n",
       "<table border=\"1\" class=\"dataframe\">\n",
       "  <thead>\n",
       "    <tr style=\"text-align: right;\">\n",
       "      <th></th>\n",
       "      <th>company_permalink</th>\n",
       "      <th>funding_round_permalink</th>\n",
       "      <th>funding_round_type</th>\n",
       "      <th>funding_round_code</th>\n",
       "      <th>funded_at</th>\n",
       "      <th>raised_amount_usd</th>\n",
       "    </tr>\n",
       "  </thead>\n",
       "  <tbody>\n",
       "    <tr>\n",
       "      <th>29597</th>\n",
       "      <td>/ORGANIZATION/E-CÃBICA</td>\n",
       "      <td>/funding-round/8491f74869e4fe8ba9c378394f8fbdea</td>\n",
       "      <td>seed</td>\n",
       "      <td>NaN</td>\n",
       "      <td>01-02-2015</td>\n",
       "      <td>nan</td>\n",
       "    </tr>\n",
       "    <tr>\n",
       "      <th>31863</th>\n",
       "      <td>/ORGANIZATION/ENERGYSTONE-GAMES-ÇΜÇ³Æ¸¸Æ</td>\n",
       "      <td>/funding-round/b89553f3d2279c5683ae93f45a21cfe0</td>\n",
       "      <td>seed</td>\n",
       "      <td>NaN</td>\n",
       "      <td>09-08-2014</td>\n",
       "      <td>nan</td>\n",
       "    </tr>\n",
       "    <tr>\n",
       "      <th>45176</th>\n",
       "      <td>/ORGANIZATION/HUIZUCHE-COM-Æ Ç§ŸÈ½¦</td>\n",
       "      <td>/funding-round/8f8a32dbeeb0f831a78702f83af78a36</td>\n",
       "      <td>seed</td>\n",
       "      <td>NaN</td>\n",
       "      <td>18-09-2014</td>\n",
       "      <td>nan</td>\n",
       "    </tr>\n",
       "    <tr>\n",
       "      <th>58473</th>\n",
       "      <td>/ORGANIZATION/MAGNET-TECH-Ç£Ç³Ç§Æ</td>\n",
       "      <td>/funding-round/8fc91fbb32bc95e97f151dd0cb4166bf</td>\n",
       "      <td>seed</td>\n",
       "      <td>NaN</td>\n",
       "      <td>16-08-2014</td>\n",
       "      <td>1625585.00000</td>\n",
       "    </tr>\n",
       "    <tr>\n",
       "      <th>101036</th>\n",
       "      <td>/ORGANIZATION/TIPCAT-INTERACTIVE-Æ²ÈŸÄ¿¡Æ¯Ç...</td>\n",
       "      <td>/funding-round/41005928a1439cb2d706a43cb661f60f</td>\n",
       "      <td>seed</td>\n",
       "      <td>NaN</td>\n",
       "      <td>06-09-2010</td>\n",
       "      <td>nan</td>\n",
       "    </tr>\n",
       "    <tr>\n",
       "      <th>109969</th>\n",
       "      <td>/ORGANIZATION/WEICHE-TECH-ÅÈ½¦Ç§Æ</td>\n",
       "      <td>/funding-round/f74e457f838b81fa0b29649740f186d8</td>\n",
       "      <td>venture</td>\n",
       "      <td>A</td>\n",
       "      <td>06-09-2015</td>\n",
       "      <td>nan</td>\n",
       "    </tr>\n",
       "    <tr>\n",
       "      <th>113839</th>\n",
       "      <td>/ORGANIZATION/ZENGAME-Ç¦",
       "Æ¸¸Ç§Æ</td>\n",
       "      <td>/funding-round/6ba28fb4f3eadf5a9c6c81bc5dde6cdf</td>\n",
       "      <td>seed</td>\n",
       "      <td>NaN</td>\n",
       "      <td>17-07-2010</td>\n",
       "      <td>nan</td>\n",
       "    </tr>\n",
       "  </tbody>\n",
       "</table>\n",
       "</div>"
      ],
      "text/plain": [
       "                                        company_permalink  \\\n",
       "29597                             /ORGANIZATION/E-CÃBICA   \n",
       "31863        /ORGANIZATION/ENERGYSTONE-GAMES-ÇΜÇ³Æ¸¸Æ   \n",
       "45176                /ORGANIZATION/HUIZUCHE-COM-Æ Ç§ŸÈ½¦   \n",
       "58473              /ORGANIZATION/MAGNET-TECH-Ç£Ç³Ç§Æ   \n",
       "101036  /ORGANIZATION/TIPCAT-INTERACTIVE-Æ²ÈŸÄ¿¡Æ¯Ç...   \n",
       "109969             /ORGANIZATION/WEICHE-TECH-ÅÈ½¦Ç§Æ   \n",
       "113839                 /ORGANIZATION/ZENGAME-Ç¦\n",
       "Æ¸¸Ç§Æ   \n",
       "\n",
       "                                funding_round_permalink funding_round_type  \\\n",
       "29597   /funding-round/8491f74869e4fe8ba9c378394f8fbdea               seed   \n",
       "31863   /funding-round/b89553f3d2279c5683ae93f45a21cfe0               seed   \n",
       "45176   /funding-round/8f8a32dbeeb0f831a78702f83af78a36               seed   \n",
       "58473   /funding-round/8fc91fbb32bc95e97f151dd0cb4166bf               seed   \n",
       "101036  /funding-round/41005928a1439cb2d706a43cb661f60f               seed   \n",
       "109969  /funding-round/f74e457f838b81fa0b29649740f186d8            venture   \n",
       "113839  /funding-round/6ba28fb4f3eadf5a9c6c81bc5dde6cdf               seed   \n",
       "\n",
       "       funding_round_code   funded_at  raised_amount_usd  \n",
       "29597                 NaN  01-02-2015                nan  \n",
       "31863                 NaN  09-08-2014                nan  \n",
       "45176                 NaN  18-09-2014                nan  \n",
       "58473                 NaN  16-08-2014      1625585.00000  \n",
       "101036                NaN  06-09-2010                nan  \n",
       "109969                  A  06-09-2015                nan  \n",
       "113839                NaN  17-07-2010                nan  "
      ]
     },
     "execution_count": 392,
     "metadata": {},
     "output_type": "execute_result"
    }
   ],
   "source": [
    "rounds2.loc[~rounds2['company_permalink'].isin(companies['permalink']),:]"
   ]
  },
  {
   "cell_type": "markdown",
   "metadata": {},
   "source": [
    "### remove junk characters in rounds2 table 'company_permalink' column"
   ]
  },
  {
   "cell_type": "code",
   "execution_count": 393,
   "metadata": {},
   "outputs": [],
   "source": [
    "rounds2['company_permalink'] = rounds2['company_permalink'].str.encode('utf-8').str.decode('ascii','ignore')"
   ]
  },
  {
   "cell_type": "markdown",
   "metadata": {},
   "source": [
    "### remove junk characters in companies table 'permalink' column"
   ]
  },
  {
   "cell_type": "code",
   "execution_count": 394,
   "metadata": {},
   "outputs": [],
   "source": [
    "companies['permalink'] = companies['permalink'].str.encode('utf-8').str.decode('ascii','ignore')"
   ]
  },
  {
   "cell_type": "markdown",
   "metadata": {},
   "source": [
    "## All th companies present in rounds2 table are in companies table"
   ]
  },
  {
   "cell_type": "code",
   "execution_count": 395,
   "metadata": {},
   "outputs": [
    {
     "data": {
      "text/html": [
       "<div>\n",
       "<style scoped>\n",
       "    .dataframe tbody tr th:only-of-type {\n",
       "        vertical-align: middle;\n",
       "    }\n",
       "\n",
       "    .dataframe tbody tr th {\n",
       "        vertical-align: top;\n",
       "    }\n",
       "\n",
       "    .dataframe thead th {\n",
       "        text-align: right;\n",
       "    }\n",
       "</style>\n",
       "<table border=\"1\" class=\"dataframe\">\n",
       "  <thead>\n",
       "    <tr style=\"text-align: right;\">\n",
       "      <th></th>\n",
       "      <th>company_permalink</th>\n",
       "      <th>funding_round_permalink</th>\n",
       "      <th>funding_round_type</th>\n",
       "      <th>funding_round_code</th>\n",
       "      <th>funded_at</th>\n",
       "      <th>raised_amount_usd</th>\n",
       "    </tr>\n",
       "  </thead>\n",
       "  <tbody>\n",
       "  </tbody>\n",
       "</table>\n",
       "</div>"
      ],
      "text/plain": [
       "Empty DataFrame\n",
       "Columns: [company_permalink, funding_round_permalink, funding_round_type, funding_round_code, funded_at, raised_amount_usd]\n",
       "Index: []"
      ]
     },
     "execution_count": 395,
     "metadata": {},
     "output_type": "execute_result"
    }
   ],
   "source": [
    "rounds2.loc[~rounds2['company_permalink'].isin(companies['permalink']),:]"
   ]
  },
  {
   "cell_type": "markdown",
   "metadata": {},
   "source": [
    "### set 'permalink' as index in companies table"
   ]
  },
  {
   "cell_type": "code",
   "execution_count": 396,
   "metadata": {},
   "outputs": [
    {
     "data": {
      "text/html": [
       "<div>\n",
       "<style scoped>\n",
       "    .dataframe tbody tr th:only-of-type {\n",
       "        vertical-align: middle;\n",
       "    }\n",
       "\n",
       "    .dataframe tbody tr th {\n",
       "        vertical-align: top;\n",
       "    }\n",
       "\n",
       "    .dataframe thead th {\n",
       "        text-align: right;\n",
       "    }\n",
       "</style>\n",
       "<table border=\"1\" class=\"dataframe\">\n",
       "  <thead>\n",
       "    <tr style=\"text-align: right;\">\n",
       "      <th></th>\n",
       "      <th>name</th>\n",
       "      <th>homepage_url</th>\n",
       "      <th>category_list</th>\n",
       "      <th>status</th>\n",
       "      <th>country_code</th>\n",
       "      <th>state_code</th>\n",
       "      <th>region</th>\n",
       "      <th>city</th>\n",
       "      <th>founded_at</th>\n",
       "    </tr>\n",
       "    <tr>\n",
       "      <th>permalink</th>\n",
       "      <th></th>\n",
       "      <th></th>\n",
       "      <th></th>\n",
       "      <th></th>\n",
       "      <th></th>\n",
       "      <th></th>\n",
       "      <th></th>\n",
       "      <th></th>\n",
       "      <th></th>\n",
       "    </tr>\n",
       "  </thead>\n",
       "  <tbody>\n",
       "    <tr>\n",
       "      <th>/ORGANIZATION/-FAME</th>\n",
       "      <td>#fame</td>\n",
       "      <td>http://livfame.com</td>\n",
       "      <td>Media</td>\n",
       "      <td>operating</td>\n",
       "      <td>IND</td>\n",
       "      <td>16</td>\n",
       "      <td>Mumbai</td>\n",
       "      <td>Mumbai</td>\n",
       "      <td>NaN</td>\n",
       "    </tr>\n",
       "    <tr>\n",
       "      <th>/ORGANIZATION/-QOUNTER</th>\n",
       "      <td>:Qounter</td>\n",
       "      <td>http://www.qounter.com</td>\n",
       "      <td>Application Platforms|Real Time|Social Network...</td>\n",
       "      <td>operating</td>\n",
       "      <td>USA</td>\n",
       "      <td>DE</td>\n",
       "      <td>DE - Other</td>\n",
       "      <td>Delaware City</td>\n",
       "      <td>4/9/2014</td>\n",
       "    </tr>\n",
       "    <tr>\n",
       "      <th>/ORGANIZATION/-THE-ONE-OF-THEM-INC-</th>\n",
       "      <td>(THE) ONE of THEM,Inc.</td>\n",
       "      <td>http://oneofthem.jp</td>\n",
       "      <td>Apps|Games|Mobile</td>\n",
       "      <td>operating</td>\n",
       "      <td>NaN</td>\n",
       "      <td>NaN</td>\n",
       "      <td>NaN</td>\n",
       "      <td>NaN</td>\n",
       "      <td>NaN</td>\n",
       "    </tr>\n",
       "    <tr>\n",
       "      <th>/ORGANIZATION/0-6-COM</th>\n",
       "      <td>0-6.com</td>\n",
       "      <td>http://www.0-6.com</td>\n",
       "      <td>Curated Web</td>\n",
       "      <td>operating</td>\n",
       "      <td>CHN</td>\n",
       "      <td>22</td>\n",
       "      <td>Beijing</td>\n",
       "      <td>Beijing</td>\n",
       "      <td>1/1/2007</td>\n",
       "    </tr>\n",
       "    <tr>\n",
       "      <th>/ORGANIZATION/004-TECHNOLOGIES</th>\n",
       "      <td>004 Technologies</td>\n",
       "      <td>http://004gmbh.de/en/004-interact</td>\n",
       "      <td>Software</td>\n",
       "      <td>operating</td>\n",
       "      <td>USA</td>\n",
       "      <td>IL</td>\n",
       "      <td>Springfield, Illinois</td>\n",
       "      <td>Champaign</td>\n",
       "      <td>1/1/2010</td>\n",
       "    </tr>\n",
       "    <tr>\n",
       "      <th>...</th>\n",
       "      <td>...</td>\n",
       "      <td>...</td>\n",
       "      <td>...</td>\n",
       "      <td>...</td>\n",
       "      <td>...</td>\n",
       "      <td>...</td>\n",
       "      <td>...</td>\n",
       "      <td>...</td>\n",
       "      <td>...</td>\n",
       "    </tr>\n",
       "    <tr>\n",
       "      <th>/ORGANIZATION/ZZNODE-SCIENCE-AND-TECHNOLOGY-CO-LTD</th>\n",
       "      <td>ZZNode Science and Technology</td>\n",
       "      <td>http://www.zznode.com</td>\n",
       "      <td>Enterprise Software</td>\n",
       "      <td>operating</td>\n",
       "      <td>CHN</td>\n",
       "      <td>22</td>\n",
       "      <td>Beijing</td>\n",
       "      <td>Beijing</td>\n",
       "      <td>NaN</td>\n",
       "    </tr>\n",
       "    <tr>\n",
       "      <th>/ORGANIZATION/ZZZZAPP-COM</th>\n",
       "      <td>Zzzzapp Wireless ltd.</td>\n",
       "      <td>http://www.zzzzapp.com</td>\n",
       "      <td>Advertising|Mobile|Web Development|Wireless</td>\n",
       "      <td>operating</td>\n",
       "      <td>HRV</td>\n",
       "      <td>15</td>\n",
       "      <td>Split</td>\n",
       "      <td>Split</td>\n",
       "      <td>13-05-2012</td>\n",
       "    </tr>\n",
       "    <tr>\n",
       "      <th>/ORGANIZATION/ERON</th>\n",
       "      <td>ÃERON</td>\n",
       "      <td>http://www.aeron.hu/</td>\n",
       "      <td>NaN</td>\n",
       "      <td>operating</td>\n",
       "      <td>NaN</td>\n",
       "      <td>NaN</td>\n",
       "      <td>NaN</td>\n",
       "      <td>NaN</td>\n",
       "      <td>1/1/2011</td>\n",
       "    </tr>\n",
       "    <tr>\n",
       "      <th>/ORGANIZATION/ASYS-2</th>\n",
       "      <td>Ãasys</td>\n",
       "      <td>http://www.oasys.io/</td>\n",
       "      <td>Consumer Electronics|Internet of Things|Teleco...</td>\n",
       "      <td>operating</td>\n",
       "      <td>USA</td>\n",
       "      <td>CA</td>\n",
       "      <td>SF Bay Area</td>\n",
       "      <td>San Francisco</td>\n",
       "      <td>1/1/2014</td>\n",
       "    </tr>\n",
       "    <tr>\n",
       "      <th>/ORGANIZATION/NOVATIFF-REKLAM-VE-TANTM-HIZMETLERI-TIC</th>\n",
       "      <td>Ä°novatiff Reklam ve TanÄ±tÄ±m Hizmetleri Tic</td>\n",
       "      <td>http://inovatiff.com</td>\n",
       "      <td>Consumer Goods|E-Commerce|Internet</td>\n",
       "      <td>operating</td>\n",
       "      <td>NaN</td>\n",
       "      <td>NaN</td>\n",
       "      <td>NaN</td>\n",
       "      <td>NaN</td>\n",
       "      <td>NaN</td>\n",
       "    </tr>\n",
       "  </tbody>\n",
       "</table>\n",
       "<p>66368 rows × 9 columns</p>\n",
       "</div>"
      ],
      "text/plain": [
       "                                                                                             name  \\\n",
       "permalink                                                                                           \n",
       "/ORGANIZATION/-FAME                                                                         #fame   \n",
       "/ORGANIZATION/-QOUNTER                                                                   :Qounter   \n",
       "/ORGANIZATION/-THE-ONE-OF-THEM-INC-                                        (THE) ONE of THEM,Inc.   \n",
       "/ORGANIZATION/0-6-COM                                                                     0-6.com   \n",
       "/ORGANIZATION/004-TECHNOLOGIES                                                   004 Technologies   \n",
       "...                                                                                           ...   \n",
       "/ORGANIZATION/ZZNODE-SCIENCE-AND-TECHNOLOGY-CO-LTD                  ZZNode Science and Technology   \n",
       "/ORGANIZATION/ZZZZAPP-COM                                                   Zzzzapp Wireless ltd.   \n",
       "/ORGANIZATION/ERON                                                                         ÃERON   \n",
       "/ORGANIZATION/ASYS-2                                                                       Ãasys   \n",
       "/ORGANIZATION/NOVATIFF-REKLAM-VE-TANTM-HIZMETLE...  Ä°novatiff Reklam ve TanÄ±tÄ±m Hizmetleri Tic   \n",
       "\n",
       "                                                                         homepage_url  \\\n",
       "permalink                                                                               \n",
       "/ORGANIZATION/-FAME                                                http://livfame.com   \n",
       "/ORGANIZATION/-QOUNTER                                         http://www.qounter.com   \n",
       "/ORGANIZATION/-THE-ONE-OF-THEM-INC-                               http://oneofthem.jp   \n",
       "/ORGANIZATION/0-6-COM                                              http://www.0-6.com   \n",
       "/ORGANIZATION/004-TECHNOLOGIES                      http://004gmbh.de/en/004-interact   \n",
       "...                                                                               ...   \n",
       "/ORGANIZATION/ZZNODE-SCIENCE-AND-TECHNOLOGY-CO-LTD              http://www.zznode.com   \n",
       "/ORGANIZATION/ZZZZAPP-COM                                      http://www.zzzzapp.com   \n",
       "/ORGANIZATION/ERON                                               http://www.aeron.hu/   \n",
       "/ORGANIZATION/ASYS-2                                             http://www.oasys.io/   \n",
       "/ORGANIZATION/NOVATIFF-REKLAM-VE-TANTM-HIZMETLE...               http://inovatiff.com   \n",
       "\n",
       "                                                                                        category_list  \\\n",
       "permalink                                                                                               \n",
       "/ORGANIZATION/-FAME                                                                             Media   \n",
       "/ORGANIZATION/-QOUNTER                              Application Platforms|Real Time|Social Network...   \n",
       "/ORGANIZATION/-THE-ONE-OF-THEM-INC-                                                 Apps|Games|Mobile   \n",
       "/ORGANIZATION/0-6-COM                                                                     Curated Web   \n",
       "/ORGANIZATION/004-TECHNOLOGIES                                                               Software   \n",
       "...                                                                                               ...   \n",
       "/ORGANIZATION/ZZNODE-SCIENCE-AND-TECHNOLOGY-CO-LTD                                Enterprise Software   \n",
       "/ORGANIZATION/ZZZZAPP-COM                                 Advertising|Mobile|Web Development|Wireless   \n",
       "/ORGANIZATION/ERON                                                                                NaN   \n",
       "/ORGANIZATION/ASYS-2                                Consumer Electronics|Internet of Things|Teleco...   \n",
       "/ORGANIZATION/NOVATIFF-REKLAM-VE-TANTM-HIZMETLE...                 Consumer Goods|E-Commerce|Internet   \n",
       "\n",
       "                                                       status country_code  \\\n",
       "permalink                                                                    \n",
       "/ORGANIZATION/-FAME                                 operating          IND   \n",
       "/ORGANIZATION/-QOUNTER                              operating          USA   \n",
       "/ORGANIZATION/-THE-ONE-OF-THEM-INC-                 operating          NaN   \n",
       "/ORGANIZATION/0-6-COM                               operating          CHN   \n",
       "/ORGANIZATION/004-TECHNOLOGIES                      operating          USA   \n",
       "...                                                       ...          ...   \n",
       "/ORGANIZATION/ZZNODE-SCIENCE-AND-TECHNOLOGY-CO-LTD  operating          CHN   \n",
       "/ORGANIZATION/ZZZZAPP-COM                           operating          HRV   \n",
       "/ORGANIZATION/ERON                                  operating          NaN   \n",
       "/ORGANIZATION/ASYS-2                                operating          USA   \n",
       "/ORGANIZATION/NOVATIFF-REKLAM-VE-TANTM-HIZMETLE...  operating          NaN   \n",
       "\n",
       "                                                   state_code  \\\n",
       "permalink                                                       \n",
       "/ORGANIZATION/-FAME                                        16   \n",
       "/ORGANIZATION/-QOUNTER                                     DE   \n",
       "/ORGANIZATION/-THE-ONE-OF-THEM-INC-                       NaN   \n",
       "/ORGANIZATION/0-6-COM                                      22   \n",
       "/ORGANIZATION/004-TECHNOLOGIES                             IL   \n",
       "...                                                       ...   \n",
       "/ORGANIZATION/ZZNODE-SCIENCE-AND-TECHNOLOGY-CO-LTD         22   \n",
       "/ORGANIZATION/ZZZZAPP-COM                                  15   \n",
       "/ORGANIZATION/ERON                                        NaN   \n",
       "/ORGANIZATION/ASYS-2                                       CA   \n",
       "/ORGANIZATION/NOVATIFF-REKLAM-VE-TANTM-HIZMETLE...        NaN   \n",
       "\n",
       "                                                                   region  \\\n",
       "permalink                                                                   \n",
       "/ORGANIZATION/-FAME                                                Mumbai   \n",
       "/ORGANIZATION/-QOUNTER                                         DE - Other   \n",
       "/ORGANIZATION/-THE-ONE-OF-THEM-INC-                                   NaN   \n",
       "/ORGANIZATION/0-6-COM                                             Beijing   \n",
       "/ORGANIZATION/004-TECHNOLOGIES                      Springfield, Illinois   \n",
       "...                                                                   ...   \n",
       "/ORGANIZATION/ZZNODE-SCIENCE-AND-TECHNOLOGY-CO-LTD                Beijing   \n",
       "/ORGANIZATION/ZZZZAPP-COM                                           Split   \n",
       "/ORGANIZATION/ERON                                                    NaN   \n",
       "/ORGANIZATION/ASYS-2                                          SF Bay Area   \n",
       "/ORGANIZATION/NOVATIFF-REKLAM-VE-TANTM-HIZMETLE...                    NaN   \n",
       "\n",
       "                                                             city  founded_at  \n",
       "permalink                                                                      \n",
       "/ORGANIZATION/-FAME                                        Mumbai         NaN  \n",
       "/ORGANIZATION/-QOUNTER                              Delaware City    4/9/2014  \n",
       "/ORGANIZATION/-THE-ONE-OF-THEM-INC-                           NaN         NaN  \n",
       "/ORGANIZATION/0-6-COM                                     Beijing    1/1/2007  \n",
       "/ORGANIZATION/004-TECHNOLOGIES                          Champaign    1/1/2010  \n",
       "...                                                           ...         ...  \n",
       "/ORGANIZATION/ZZNODE-SCIENCE-AND-TECHNOLOGY-CO-LTD        Beijing         NaN  \n",
       "/ORGANIZATION/ZZZZAPP-COM                                   Split  13-05-2012  \n",
       "/ORGANIZATION/ERON                                            NaN    1/1/2011  \n",
       "/ORGANIZATION/ASYS-2                                San Francisco    1/1/2014  \n",
       "/ORGANIZATION/NOVATIFF-REKLAM-VE-TANTM-HIZMETLE...            NaN         NaN  \n",
       "\n",
       "[66368 rows x 9 columns]"
      ]
     },
     "execution_count": 396,
     "metadata": {},
     "output_type": "execute_result"
    }
   ],
   "source": [
    "companies.set_index('permalink')"
   ]
  },
  {
   "cell_type": "markdown",
   "metadata": {},
   "source": [
    "### rename 'company_permalink' to 'permalink' in rounds table"
   ]
  },
  {
   "cell_type": "code",
   "execution_count": 397,
   "metadata": {},
   "outputs": [],
   "source": [
    "rounds2 = rounds2.rename(columns = {'company_permalink': 'permalink'})"
   ]
  },
  {
   "cell_type": "markdown",
   "metadata": {},
   "source": [
    "### set 'permalink' as index in rounds2 table"
   ]
  },
  {
   "cell_type": "code",
   "execution_count": 398,
   "metadata": {},
   "outputs": [
    {
     "data": {
      "text/html": [
       "<div>\n",
       "<style scoped>\n",
       "    .dataframe tbody tr th:only-of-type {\n",
       "        vertical-align: middle;\n",
       "    }\n",
       "\n",
       "    .dataframe tbody tr th {\n",
       "        vertical-align: top;\n",
       "    }\n",
       "\n",
       "    .dataframe thead th {\n",
       "        text-align: right;\n",
       "    }\n",
       "</style>\n",
       "<table border=\"1\" class=\"dataframe\">\n",
       "  <thead>\n",
       "    <tr style=\"text-align: right;\">\n",
       "      <th></th>\n",
       "      <th>funding_round_permalink</th>\n",
       "      <th>funding_round_type</th>\n",
       "      <th>funding_round_code</th>\n",
       "      <th>funded_at</th>\n",
       "      <th>raised_amount_usd</th>\n",
       "    </tr>\n",
       "    <tr>\n",
       "      <th>permalink</th>\n",
       "      <th></th>\n",
       "      <th></th>\n",
       "      <th></th>\n",
       "      <th></th>\n",
       "      <th></th>\n",
       "    </tr>\n",
       "  </thead>\n",
       "  <tbody>\n",
       "    <tr>\n",
       "      <th>/ORGANIZATION/-FAME</th>\n",
       "      <td>/funding-round/9a01d05418af9f794eebff7ace91f638</td>\n",
       "      <td>venture</td>\n",
       "      <td>B</td>\n",
       "      <td>05-01-2015</td>\n",
       "      <td>10000000.00000</td>\n",
       "    </tr>\n",
       "    <tr>\n",
       "      <th>/ORGANIZATION/-QOUNTER</th>\n",
       "      <td>/funding-round/22dacff496eb7acb2b901dec1dfe5633</td>\n",
       "      <td>venture</td>\n",
       "      <td>A</td>\n",
       "      <td>14-10-2014</td>\n",
       "      <td>nan</td>\n",
       "    </tr>\n",
       "    <tr>\n",
       "      <th>/ORGANIZATION/-QOUNTER</th>\n",
       "      <td>/funding-round/b44fbb94153f6cdef13083530bb48030</td>\n",
       "      <td>seed</td>\n",
       "      <td>NaN</td>\n",
       "      <td>01-03-2014</td>\n",
       "      <td>700000.00000</td>\n",
       "    </tr>\n",
       "    <tr>\n",
       "      <th>/ORGANIZATION/-THE-ONE-OF-THEM-INC-</th>\n",
       "      <td>/funding-round/650b8f704416801069bb178a1418776b</td>\n",
       "      <td>venture</td>\n",
       "      <td>B</td>\n",
       "      <td>30-01-2014</td>\n",
       "      <td>3406878.00000</td>\n",
       "    </tr>\n",
       "    <tr>\n",
       "      <th>/ORGANIZATION/0-6-COM</th>\n",
       "      <td>/funding-round/5727accaeaa57461bd22a9bdd945382d</td>\n",
       "      <td>venture</td>\n",
       "      <td>A</td>\n",
       "      <td>19-03-2008</td>\n",
       "      <td>2000000.00000</td>\n",
       "    </tr>\n",
       "    <tr>\n",
       "      <th>...</th>\n",
       "      <td>...</td>\n",
       "      <td>...</td>\n",
       "      <td>...</td>\n",
       "      <td>...</td>\n",
       "      <td>...</td>\n",
       "    </tr>\n",
       "    <tr>\n",
       "      <th>/ORGANIZATION/ZZZZAPP-COM</th>\n",
       "      <td>/funding-round/8f6d25b8ee4199e586484d817bceda05</td>\n",
       "      <td>convertible_note</td>\n",
       "      <td>NaN</td>\n",
       "      <td>01-03-2014</td>\n",
       "      <td>41313.00000</td>\n",
       "    </tr>\n",
       "    <tr>\n",
       "      <th>/ORGANIZATION/ZZZZAPP-COM</th>\n",
       "      <td>/funding-round/ff1aa06ed5da186c84f101549035d4ae</td>\n",
       "      <td>seed</td>\n",
       "      <td>NaN</td>\n",
       "      <td>01-05-2013</td>\n",
       "      <td>32842.00000</td>\n",
       "    </tr>\n",
       "    <tr>\n",
       "      <th>/ORGANIZATION/ERON</th>\n",
       "      <td>/funding-round/59f4dce44723b794f21ded3daed6e4fe</td>\n",
       "      <td>venture</td>\n",
       "      <td>A</td>\n",
       "      <td>01-08-2014</td>\n",
       "      <td>nan</td>\n",
       "    </tr>\n",
       "    <tr>\n",
       "      <th>/ORGANIZATION/ASYS-2</th>\n",
       "      <td>/funding-round/35f09d0794651719b02bbfd859ba9ff5</td>\n",
       "      <td>seed</td>\n",
       "      <td>NaN</td>\n",
       "      <td>01-01-2015</td>\n",
       "      <td>18192.00000</td>\n",
       "    </tr>\n",
       "    <tr>\n",
       "      <th>/ORGANIZATION/NOVATIFF-REKLAM-VE-TANTM-HIZMETLERI-TIC</th>\n",
       "      <td>/funding-round/af942869878d2cd788ef5189b435ebc4</td>\n",
       "      <td>grant</td>\n",
       "      <td>NaN</td>\n",
       "      <td>01-10-2013</td>\n",
       "      <td>14851.00000</td>\n",
       "    </tr>\n",
       "  </tbody>\n",
       "</table>\n",
       "<p>114949 rows × 5 columns</p>\n",
       "</div>"
      ],
      "text/plain": [
       "                                                                            funding_round_permalink  \\\n",
       "permalink                                                                                             \n",
       "/ORGANIZATION/-FAME                                 /funding-round/9a01d05418af9f794eebff7ace91f638   \n",
       "/ORGANIZATION/-QOUNTER                              /funding-round/22dacff496eb7acb2b901dec1dfe5633   \n",
       "/ORGANIZATION/-QOUNTER                              /funding-round/b44fbb94153f6cdef13083530bb48030   \n",
       "/ORGANIZATION/-THE-ONE-OF-THEM-INC-                 /funding-round/650b8f704416801069bb178a1418776b   \n",
       "/ORGANIZATION/0-6-COM                               /funding-round/5727accaeaa57461bd22a9bdd945382d   \n",
       "...                                                                                             ...   \n",
       "/ORGANIZATION/ZZZZAPP-COM                           /funding-round/8f6d25b8ee4199e586484d817bceda05   \n",
       "/ORGANIZATION/ZZZZAPP-COM                           /funding-round/ff1aa06ed5da186c84f101549035d4ae   \n",
       "/ORGANIZATION/ERON                                  /funding-round/59f4dce44723b794f21ded3daed6e4fe   \n",
       "/ORGANIZATION/ASYS-2                                /funding-round/35f09d0794651719b02bbfd859ba9ff5   \n",
       "/ORGANIZATION/NOVATIFF-REKLAM-VE-TANTM-HIZMETLE...  /funding-round/af942869878d2cd788ef5189b435ebc4   \n",
       "\n",
       "                                                   funding_round_type  \\\n",
       "permalink                                                               \n",
       "/ORGANIZATION/-FAME                                           venture   \n",
       "/ORGANIZATION/-QOUNTER                                        venture   \n",
       "/ORGANIZATION/-QOUNTER                                           seed   \n",
       "/ORGANIZATION/-THE-ONE-OF-THEM-INC-                           venture   \n",
       "/ORGANIZATION/0-6-COM                                         venture   \n",
       "...                                                               ...   \n",
       "/ORGANIZATION/ZZZZAPP-COM                            convertible_note   \n",
       "/ORGANIZATION/ZZZZAPP-COM                                        seed   \n",
       "/ORGANIZATION/ERON                                            venture   \n",
       "/ORGANIZATION/ASYS-2                                             seed   \n",
       "/ORGANIZATION/NOVATIFF-REKLAM-VE-TANTM-HIZMETLE...              grant   \n",
       "\n",
       "                                                   funding_round_code  \\\n",
       "permalink                                                               \n",
       "/ORGANIZATION/-FAME                                                 B   \n",
       "/ORGANIZATION/-QOUNTER                                              A   \n",
       "/ORGANIZATION/-QOUNTER                                            NaN   \n",
       "/ORGANIZATION/-THE-ONE-OF-THEM-INC-                                 B   \n",
       "/ORGANIZATION/0-6-COM                                               A   \n",
       "...                                                               ...   \n",
       "/ORGANIZATION/ZZZZAPP-COM                                         NaN   \n",
       "/ORGANIZATION/ZZZZAPP-COM                                         NaN   \n",
       "/ORGANIZATION/ERON                                                  A   \n",
       "/ORGANIZATION/ASYS-2                                              NaN   \n",
       "/ORGANIZATION/NOVATIFF-REKLAM-VE-TANTM-HIZMETLE...                NaN   \n",
       "\n",
       "                                                     funded_at  \\\n",
       "permalink                                                        \n",
       "/ORGANIZATION/-FAME                                 05-01-2015   \n",
       "/ORGANIZATION/-QOUNTER                              14-10-2014   \n",
       "/ORGANIZATION/-QOUNTER                              01-03-2014   \n",
       "/ORGANIZATION/-THE-ONE-OF-THEM-INC-                 30-01-2014   \n",
       "/ORGANIZATION/0-6-COM                               19-03-2008   \n",
       "...                                                        ...   \n",
       "/ORGANIZATION/ZZZZAPP-COM                           01-03-2014   \n",
       "/ORGANIZATION/ZZZZAPP-COM                           01-05-2013   \n",
       "/ORGANIZATION/ERON                                  01-08-2014   \n",
       "/ORGANIZATION/ASYS-2                                01-01-2015   \n",
       "/ORGANIZATION/NOVATIFF-REKLAM-VE-TANTM-HIZMETLE...  01-10-2013   \n",
       "\n",
       "                                                    raised_amount_usd  \n",
       "permalink                                                              \n",
       "/ORGANIZATION/-FAME                                    10000000.00000  \n",
       "/ORGANIZATION/-QOUNTER                                            nan  \n",
       "/ORGANIZATION/-QOUNTER                                   700000.00000  \n",
       "/ORGANIZATION/-THE-ONE-OF-THEM-INC-                     3406878.00000  \n",
       "/ORGANIZATION/0-6-COM                                   2000000.00000  \n",
       "...                                                               ...  \n",
       "/ORGANIZATION/ZZZZAPP-COM                                 41313.00000  \n",
       "/ORGANIZATION/ZZZZAPP-COM                                 32842.00000  \n",
       "/ORGANIZATION/ERON                                                nan  \n",
       "/ORGANIZATION/ASYS-2                                      18192.00000  \n",
       "/ORGANIZATION/NOVATIFF-REKLAM-VE-TANTM-HIZMETLE...        14851.00000  \n",
       "\n",
       "[114949 rows x 5 columns]"
      ]
     },
     "execution_count": 398,
     "metadata": {},
     "output_type": "execute_result"
    }
   ],
   "source": [
    "rounds2.set_index('permalink')"
   ]
  },
  {
   "cell_type": "markdown",
   "metadata": {},
   "source": [
    "## Merge rounds2 table with companies and calculate the length of rows in the merged table"
   ]
  },
  {
   "cell_type": "code",
   "execution_count": 399,
   "metadata": {},
   "outputs": [
    {
     "data": {
      "text/plain": [
       "114949"
      ]
     },
     "execution_count": 399,
     "metadata": {},
     "output_type": "execute_result"
    }
   ],
   "source": [
    "master_frame = pd.merge(rounds2,companies)\n",
    "len(master_frame)"
   ]
  },
  {
   "cell_type": "markdown",
   "metadata": {},
   "source": [
    "### Check if any column which is needed for analysis are null  "
   ]
  },
  {
   "cell_type": "code",
   "execution_count": 400,
   "metadata": {},
   "outputs": [
    {
     "data": {
      "text/plain": [
       "permalink                      0\n",
       "funding_round_permalink        0\n",
       "funding_round_type             0\n",
       "funding_round_code         83809\n",
       "funded_at                      0\n",
       "raised_amount_usd          19990\n",
       "name                           1\n",
       "homepage_url                6134\n",
       "category_list               3410\n",
       "status                         0\n",
       "country_code                8678\n",
       "state_code                 10946\n",
       "region                     10167\n",
       "city                       10164\n",
       "founded_at                 20521\n",
       "dtype: int64"
      ]
     },
     "execution_count": 400,
     "metadata": {},
     "output_type": "execute_result"
    }
   ],
   "source": [
    "master_frame.isnull().sum()"
   ]
  },
  {
   "cell_type": "code",
   "execution_count": 401,
   "metadata": {},
   "outputs": [
    {
     "data": {
      "text/plain": [
       "17.390320924931927"
      ]
     },
     "execution_count": 401,
     "metadata": {},
     "output_type": "execute_result"
    }
   ],
   "source": [
    "(master_frame['raised_amount_usd'].isnull().sum() * 100) / (master_frame.shape[0]) "
   ]
  },
  {
   "cell_type": "markdown",
   "metadata": {},
   "source": [
    "### Remove all rows with 'raised_amount_usd' null column as 17% of rows are null"
   ]
  },
  {
   "cell_type": "code",
   "execution_count": 402,
   "metadata": {},
   "outputs": [],
   "source": [
    "master_frame = master_frame[~((master_frame['raised_amount_usd'].isnull()))] "
   ]
  },
  {
   "cell_type": "markdown",
   "metadata": {},
   "source": [
    "### Get all records of venturetype from Master frame"
   ]
  },
  {
   "cell_type": "code",
   "execution_count": 403,
   "metadata": {},
   "outputs": [],
   "source": [
    "venture_plot = master_frame[master_frame['funding_round_type']=='venture']"
   ]
  },
  {
   "cell_type": "markdown",
   "metadata": {},
   "source": [
    "### Box plot of veture type shows presence of outliers outliers"
   ]
  },
  {
   "cell_type": "code",
   "execution_count": 404,
   "metadata": {},
   "outputs": [
    {
     "data": {
      "image/png": "[encoded data removed]",
      "text/plain": [
       "<Figure size 432x288 with 1 Axes>"
      ]
     },
     "metadata": {},
     "output_type": "display_data"
    }
   ],
   "source": [
    "sns.set_theme(style=\"whitegrid\")\n",
    "sns.boxplot(x=venture_plot[\"raised_amount_usd\"], palette=\"Blues\")\n",
    "plt.show()"
   ]
  },
  {
   "cell_type": "code",
   "execution_count": 405,
   "metadata": {},
   "outputs": [
    {
     "name": "stderr",
     "output_type": "stream",
     "text": [
      "C:\\Users\\PADMP\\Anaconda3\\lib\\site-packages\\seaborn\\distributions.py:2551: FutureWarning: `distplot` is a deprecated function and will be removed in a future version. Please adapt your code to use either `displot` (a figure-level function with similar flexibility) or `histplot` (an axes-level function for histograms).\n",
      "  warnings.warn(msg, FutureWarning)\n"
     ]
    },
    {
     "data": {
      "text/plain": [
       "<AxesSubplot:xlabel='raised_amount_usd', ylabel='Density'>"
      ]
     },
     "execution_count": 405,
     "metadata": {},
     "output_type": "execute_result"
    },
    {
     "data": {
      "image/png": "[encoded data removed]",
      "text/plain": [
       "<Figure size 432x288 with 1 Axes>"
      ]
     },
     "metadata": {},
     "output_type": "display_data"
    }
   ],
   "source": [
    "sns.distplot(venture_plot['raised_amount_usd']) "
   ]
  },
  {
   "cell_type": "code",
   "execution_count": 406,
   "metadata": {},
   "outputs": [
    {
     "data": {
      "text/plain": [
       "37569    17600000000.00000\n",
       "60207     4700000000.00000\n",
       "104173    1200000000.00000\n",
       "104166    1200000000.00000\n",
       "112173    1100000000.00000\n",
       "36401     1000000000.00000\n",
       "104169    1000000000.00000\n",
       "104176    1000000000.00000\n",
       "91675     1000000000.00000\n",
       "93043     1000000000.00000\n",
       "42085      950000000.00000\n",
       "114155     931300000.00000\n",
       "92043      915000000.00000\n",
       "27492      850000000.00000\n",
       "51756      849803496.00000\n",
       "26904      750000000.00000\n",
       "21045      740000000.00000\n",
       "61419      739000000.00000\n",
       "27551      700000000.00000\n",
       "60684      700000000.00000\n",
       "36406      700000000.00000\n",
       "30940      630000000.00000\n",
       "48688      617000000.00000\n",
       "110793     600000000.00000\n",
       "104175     600000000.00000\n",
       "53951      600000000.00000\n",
       "27552      600000000.00000\n",
       "23591      573000000.00000\n",
       "26861      568000000.00000\n",
       "98820      550000000.00000\n",
       "58414      542000000.00000\n",
       "58029      530000000.00000\n",
       "93960      526000000.00000\n",
       "100384     500000000.00000\n",
       "67740      500000000.00000\n",
       "5839       500000000.00000\n",
       "111083     500000000.00000\n",
       "113834     500000000.00000\n",
       "16290      500000000.00000\n",
       "70615      500000000.00000\n",
       "Name: raised_amount_usd, dtype: float64"
      ]
     },
     "execution_count": 406,
     "metadata": {},
     "output_type": "execute_result"
    }
   ],
   "source": [
    "venture_plot['raised_amount_usd'].sort_values(ascending=False).head(40)"
   ]
  },
  {
   "cell_type": "markdown",
   "metadata": {},
   "source": [
    "### Get median values of venturplot for Represnetative funding amount as there are outliers "
   ]
  },
  {
   "cell_type": "code",
   "execution_count": 407,
   "metadata": {},
   "outputs": [
    {
     "data": {
      "text/plain": [
       "5000000.0"
      ]
     },
     "execution_count": 407,
     "metadata": {},
     "output_type": "execute_result"
    }
   ],
   "source": [
    "venture_plot['raised_amount_usd'].median()"
   ]
  },
  {
   "cell_type": "markdown",
   "metadata": {},
   "source": [
    "### Plotting of angel plot type records shows presence of outliers. Hence median is selected as reprentative funding type"
   ]
  },
  {
   "cell_type": "code",
   "execution_count": 408,
   "metadata": {},
   "outputs": [
    {
     "data": {
      "image/png": "[encoded data removed]",
      "text/plain": [
       "<Figure size 432x288 with 1 Axes>"
      ]
     },
     "metadata": {},
     "output_type": "display_data"
    },
    {
     "name": "stderr",
     "output_type": "stream",
     "text": [
      "C:\\Users\\PADMP\\Anaconda3\\lib\\site-packages\\seaborn\\distributions.py:2551: FutureWarning: `distplot` is a deprecated function and will be removed in a future version. Please adapt your code to use either `displot` (a figure-level function with similar flexibility) or `histplot` (an axes-level function for histograms).\n",
      "  warnings.warn(msg, FutureWarning)\n"
     ]
    },
    {
     "data": {
      "image/png": "[encoded data removed]",
      "text/plain": [
       "<Figure size 432x288 with 1 Axes>"
      ]
     },
     "metadata": {},
     "output_type": "display_data"
    },
    {
     "name": "stdout",
     "output_type": "stream",
     "text": [
      "51450    494511992.00000\n",
      "955       63590263.00000\n",
      "32        43923865.00000\n",
      "109151    40000000.00000\n",
      "87139     40000000.00000\n",
      "88532     35000000.00000\n",
      "52024     34000000.00000\n",
      "72760     30000000.00000\n",
      "948       30000000.00000\n",
      "24717     27000000.00000\n",
      "55688     20708316.00000\n",
      "2656      20000000.00000\n",
      "50799     20000000.00000\n",
      "112166    20000000.00000\n",
      "76979     20000000.00000\n",
      "107465    20000000.00000\n",
      "70367     18000000.00000\n",
      "42924     16837481.00000\n",
      "100570    15424165.00000\n",
      "86026     15000000.00000\n",
      "113769    13000000.00000\n",
      "11426     12804097.00000\n",
      "13341     12500000.00000\n",
      "55176     12000000.00000\n",
      "56030     11713030.00000\n",
      "84502     10000000.00000\n",
      "86940     10000000.00000\n",
      "13045     10000000.00000\n",
      "87882     10000000.00000\n",
      "67468     10000000.00000\n",
      "62664     10000000.00000\n",
      "11108     10000000.00000\n",
      "11099     10000000.00000\n",
      "28594     10000000.00000\n",
      "45186      9000000.00000\n",
      "44749      9000000.00000\n",
      "52810      8967644.00000\n",
      "16212      8888247.00000\n",
      "55808      8500000.00000\n",
      "60149      8000000.00000\n",
      "Name: raised_amount_usd, dtype: float64\n",
      "raised_amount_usd   400000.00000\n",
      "dtype: float64\n"
     ]
    }
   ],
   "source": [
    "angel_plot = master_frame[master_frame['funding_round_type']=='angel']\n",
    "sns.boxplot(x=angel_plot[\"raised_amount_usd\"])\n",
    "plt.show()\n",
    "sns.distplot(angel_plot['raised_amount_usd'])\n",
    "plt.show()\n",
    "print(angel_plot['raised_amount_usd'].sort_values(ascending=False).head(40))\n",
    "print(angel_plot.median())"
   ]
  },
  {
   "cell_type": "markdown",
   "metadata": {},
   "source": [
    "### Plotting of seed plot type records shows presence of outliers. Hence median is selected as reprentative funding type"
   ]
  },
  {
   "cell_type": "code",
   "execution_count": 409,
   "metadata": {},
   "outputs": [
    {
     "data": {
      "image/png": "[encoded data removed]",
      "text/plain": [
       "<Figure size 432x288 with 1 Axes>"
      ]
     },
     "metadata": {},
     "output_type": "display_data"
    },
    {
     "name": "stderr",
     "output_type": "stream",
     "text": [
      "C:\\Users\\PADMP\\Anaconda3\\lib\\site-packages\\seaborn\\distributions.py:2551: FutureWarning: `distplot` is a deprecated function and will be removed in a future version. Please adapt your code to use either `displot` (a figure-level function with similar flexibility) or `histplot` (an axes-level function for histograms).\n",
      "  warnings.warn(msg, FutureWarning)\n"
     ]
    },
    {
     "data": {
      "image/png": "[encoded data removed]",
      "text/plain": [
       "<Figure size 432x288 with 1 Axes>"
      ]
     },
     "metadata": {},
     "output_type": "display_data"
    },
    {
     "name": "stdout",
     "output_type": "stream",
     "text": [
      "13465    200000000.00000\n",
      "31960    130000000.00000\n",
      "93042    100000000.00000\n",
      "19720    100000000.00000\n",
      "110721    62000000.00000\n",
      "24967     54000000.00000\n",
      "22089     41000000.00000\n",
      "71892     40000000.00000\n",
      "100296    35000000.00000\n",
      "71893     30000000.00000\n",
      "74849     25000000.00000\n",
      "90163     25000000.00000\n",
      "99676     25000000.00000\n",
      "58532     24833177.00000\n",
      "44004     22300000.00000\n",
      "104750    22000000.00000\n",
      "13230     21000000.00000\n",
      "110293    21000000.00000\n",
      "63676     20000000.00000\n",
      "72624     18000000.00000\n",
      "105703    16535302.00000\n",
      "87202     15027818.00000\n",
      "96240     15000000.00000\n",
      "19409     15000000.00000\n",
      "67469     15000000.00000\n",
      "9833      14081347.00000\n",
      "74473     13000000.00000\n",
      "43198     12600000.00000\n",
      "75688     12500000.00000\n",
      "107883    12000000.00000\n",
      "70346     12000000.00000\n",
      "89684     11500000.00000\n",
      "90387     11500000.00000\n",
      "52402     11000000.00000\n",
      "55261     10042807.00000\n",
      "82110     10000000.00000\n",
      "45745     10000000.00000\n",
      "1848      10000000.00000\n",
      "40348     10000000.00000\n",
      "66711     10000000.00000\n",
      "Name: raised_amount_usd, dtype: float64\n",
      "raised_amount_usd   275000.00000\n",
      "dtype: float64\n"
     ]
    }
   ],
   "source": [
    "seed_plot = master_frame[master_frame['funding_round_type']=='seed']\n",
    "sns.boxplot(x=seed_plot[\"raised_amount_usd\"])\n",
    "plt.show()\n",
    "sns.distplot(seed_plot['raised_amount_usd'])\n",
    "plt.show()\n",
    "print(seed_plot['raised_amount_usd'].sort_values(ascending=False).head(40))\n",
    "print(seed_plot.median())"
   ]
  },
  {
   "cell_type": "markdown",
   "metadata": {},
   "source": [
    "### Plotting of 'private_equity' plot type records shows presence of outliers. Hence median is selected as reprentative funding type"
   ]
  },
  {
   "cell_type": "code",
   "execution_count": 410,
   "metadata": {},
   "outputs": [
    {
     "data": {
      "image/png": "[encoded data removed]",
      "text/plain": [
       "<Figure size 432x288 with 1 Axes>"
      ]
     },
     "metadata": {},
     "output_type": "display_data"
    },
    {
     "name": "stderr",
     "output_type": "stream",
     "text": [
      "C:\\Users\\PADMP\\Anaconda3\\lib\\site-packages\\seaborn\\distributions.py:2551: FutureWarning: `distplot` is a deprecated function and will be removed in a future version. Please adapt your code to use either `displot` (a figure-level function with similar flexibility) or `histplot` (an axes-level function for histograms).\n",
      "  warnings.warn(msg, FutureWarning)\n"
     ]
    },
    {
     "data": {
      "image/png": "[encoded data removed]",
      "text/plain": [
       "<Figure size 432x288 with 1 Axes>"
      ]
     },
     "metadata": {},
     "output_type": "display_data"
    },
    {
     "name": "stdout",
     "output_type": "stream",
     "text": [
      "75532    4745460219.00000\n",
      "35771    3500000000.00000\n",
      "27550    2000000000.00000\n",
      "4368     2000000000.00000\n",
      "4369     1600000000.00000\n",
      "34407    1500000000.00000\n",
      "3767     1500000000.00000\n",
      "106179   1498515340.00000\n",
      "9488     1200000000.00000\n",
      "104168   1200000000.00000\n",
      "109379   1050000000.00000\n",
      "23942    1000000000.00000\n",
      "27555    1000000000.00000\n",
      "4366     1000000000.00000\n",
      "6332      833000000.00000\n",
      "63213     750000000.00000\n",
      "94358     750000000.00000\n",
      "36405     700000000.00000\n",
      "113027    700000000.00000\n",
      "49278     692000000.00000\n",
      "86755     681759114.00000\n",
      "10758     674598700.00000\n",
      "43697     630000000.00000\n",
      "91402     627000000.00000\n",
      "31778     625000000.00000\n",
      "82182     600000000.00000\n",
      "60690     590000000.00000\n",
      "90002     586000000.00000\n",
      "1205      550000000.00000\n",
      "70434     550000000.00000\n",
      "38353     541000000.00000\n",
      "58145     540000000.00000\n",
      "45243     532000000.00000\n",
      "42765     526666000.00000\n",
      "10825     500000000.00000\n",
      "59473     500000000.00000\n",
      "80735     500000000.00000\n",
      "73859     500000000.00000\n",
      "73375     500000000.00000\n",
      "66195     500000000.00000\n",
      "Name: raised_amount_usd, dtype: float64\n",
      "raised_amount_usd   20000000.00000\n",
      "dtype: float64\n"
     ]
    }
   ],
   "source": [
    "seed_plot = master_frame[master_frame['funding_round_type']=='private_equity']\n",
    "sns.boxplot(x=seed_plot[\"raised_amount_usd\"])\n",
    "plt.show()\n",
    "sns.distplot(seed_plot['raised_amount_usd'])\n",
    "plt.show()\n",
    "print(seed_plot['raised_amount_usd'].sort_values(ascending=False).head(40))\n",
    "print(seed_plot.median()) "
   ]
  },
  {
   "cell_type": "markdown",
   "metadata": {},
   "source": [
    "### Filter records between 5 to 15 million"
   ]
  },
  {
   "cell_type": "code",
   "execution_count": 411,
   "metadata": {},
   "outputs": [],
   "source": [
    "master_frame_filtered = master_frame[(master_frame['raised_amount_usd'] > 5000000) & (master_frame['raised_amount_usd'] < 15000000)].sort_values(by='raised_amount_usd', ascending=False)"
   ]
  },
  {
   "cell_type": "markdown",
   "metadata": {},
   "source": [
    "### Check if 'funding_round_type' is empty"
   ]
  },
  {
   "cell_type": "code",
   "execution_count": 412,
   "metadata": {},
   "outputs": [
    {
     "data": {
      "text/plain": [
       "permalink                     0\n",
       "funding_round_permalink       0\n",
       "funding_round_type            0\n",
       "funding_round_code         5958\n",
       "funded_at                     0\n",
       "raised_amount_usd             0\n",
       "name                          0\n",
       "homepage_url                812\n",
       "category_list               184\n",
       "status                        0\n",
       "country_code                671\n",
       "state_code                  893\n",
       "region                      847\n",
       "city                        845\n",
       "founded_at                 2827\n",
       "dtype: int64"
      ]
     },
     "execution_count": 412,
     "metadata": {},
     "output_type": "execute_result"
    }
   ],
   "source": [
    "master_frame_filtered.isnull().sum()"
   ]
  },
  {
   "cell_type": "markdown",
   "metadata": {},
   "source": [
    "### Filter records with  'angel','private_equity','seed','venture'"
   ]
  },
  {
   "cell_type": "code",
   "execution_count": 413,
   "metadata": {},
   "outputs": [],
   "source": [
    "master_frame_filtered = master_frame_filtered[master_frame_filtered['funding_round_type'].isin(['angel','private_equity','seed','venture'])]"
   ]
  },
  {
   "cell_type": "markdown",
   "metadata": {},
   "source": [
    "### Groupby funding_round_type and get top Value and its type "
   ]
  },
  {
   "cell_type": "code",
   "execution_count": 414,
   "metadata": {},
   "outputs": [
    {
     "data": {
      "text/plain": [
       "funding_round_type\n",
       "venture    13799\n",
       "Name: permalink, dtype: int64"
      ]
     },
     "execution_count": 414,
     "metadata": {},
     "output_type": "execute_result"
    }
   ],
   "source": [
    "master_frame_filtered.groupby('funding_round_type').count()['permalink'].sort_values(ascending=False).head(1)"
   ]
  },
  {
   "cell_type": "code",
   "execution_count": 415,
   "metadata": {},
   "outputs": [],
   "source": [
    "master_frame = master_frame_filtered"
   ]
  },
  {
   "cell_type": "markdown",
   "metadata": {},
   "source": [
    "### Webscrap english speaking countries"
   ]
  },
  {
   "cell_type": "code",
   "execution_count": 416,
   "metadata": {},
   "outputs": [],
   "source": [
    "URL = \"https://en.wikipedia.org/wiki/List_of_territorial_entities_where_English_is_an_official_language\"\n",
    "tables = pd.read_html(URL)"
   ]
  },
  {
   "cell_type": "markdown",
   "metadata": {},
   "source": [
    "### Fill all english speaking countries in english_speaking_countries"
   ]
  },
  {
   "cell_type": "code",
   "execution_count": 417,
   "metadata": {},
   "outputs": [],
   "source": [
    "english_speaking_countries = tables[1]['Alpha-3 code'].append(tables[0]['Alpha-3 code'])"
   ]
  },
  {
   "cell_type": "code",
   "execution_count": 418,
   "metadata": {},
   "outputs": [
    {
     "data": {
      "text/html": [
       "<div>\n",
       "<style scoped>\n",
       "    .dataframe tbody tr th:only-of-type {\n",
       "        vertical-align: middle;\n",
       "    }\n",
       "\n",
       "    .dataframe tbody tr th {\n",
       "        vertical-align: top;\n",
       "    }\n",
       "\n",
       "    .dataframe thead th {\n",
       "        text-align: right;\n",
       "    }\n",
       "</style>\n",
       "<table border=\"1\" class=\"dataframe\">\n",
       "  <thead>\n",
       "    <tr style=\"text-align: right;\">\n",
       "      <th></th>\n",
       "      <th>permalink</th>\n",
       "      <th>funding_round_permalink</th>\n",
       "      <th>funding_round_type</th>\n",
       "      <th>funding_round_code</th>\n",
       "      <th>funded_at</th>\n",
       "      <th>raised_amount_usd</th>\n",
       "      <th>name</th>\n",
       "      <th>homepage_url</th>\n",
       "      <th>category_list</th>\n",
       "      <th>status</th>\n",
       "      <th>country_code</th>\n",
       "      <th>state_code</th>\n",
       "      <th>region</th>\n",
       "      <th>city</th>\n",
       "      <th>founded_at</th>\n",
       "    </tr>\n",
       "  </thead>\n",
       "  <tbody>\n",
       "    <tr>\n",
       "      <th>113931</th>\n",
       "      <td>/ORGANIZATION/ZENVERGE</td>\n",
       "      <td>/funding-round/f6f427e7f16677297e285205fafd351d</td>\n",
       "      <td>venture</td>\n",
       "      <td>B</td>\n",
       "      <td>31-10-2007</td>\n",
       "      <td>14999999.00000</td>\n",
       "      <td>Zenverge</td>\n",
       "      <td>http://www.zenverge.com</td>\n",
       "      <td>Semiconductors</td>\n",
       "      <td>acquired</td>\n",
       "      <td>USA</td>\n",
       "      <td>CA</td>\n",
       "      <td>SF Bay Area</td>\n",
       "      <td>Cupertino</td>\n",
       "      <td>1/1/2005</td>\n",
       "    </tr>\n",
       "    <tr>\n",
       "      <th>57840</th>\n",
       "      <td>/ORGANIZATION/LUMINAL</td>\n",
       "      <td>/funding-round/5e6ecf78c82785c1dc6dd9ba8d76a9d9</td>\n",
       "      <td>venture</td>\n",
       "      <td>NaN</td>\n",
       "      <td>31-07-2015</td>\n",
       "      <td>14999999.00000</td>\n",
       "      <td>Luminal</td>\n",
       "      <td>http://www.luminal.io</td>\n",
       "      <td>Cloud Computing|Infrastructure|Security|Software</td>\n",
       "      <td>operating</td>\n",
       "      <td>USA</td>\n",
       "      <td>MD</td>\n",
       "      <td>Hagerstown</td>\n",
       "      <td>Frederick</td>\n",
       "      <td>1/1/2012</td>\n",
       "    </tr>\n",
       "    <tr>\n",
       "      <th>49127</th>\n",
       "      <td>/ORGANIZATION/INTERMOLECULAR</td>\n",
       "      <td>/funding-round/d1df05942624a86ffad2cc3fd6e11ea5</td>\n",
       "      <td>venture</td>\n",
       "      <td>NaN</td>\n",
       "      <td>10-03-2011</td>\n",
       "      <td>14999999.00000</td>\n",
       "      <td>Intermolecular</td>\n",
       "      <td>http://www.intermolecular.com</td>\n",
       "      <td>Semiconductors</td>\n",
       "      <td>ipo</td>\n",
       "      <td>USA</td>\n",
       "      <td>CA</td>\n",
       "      <td>SF Bay Area</td>\n",
       "      <td>San Jose</td>\n",
       "      <td>1/1/2004</td>\n",
       "    </tr>\n",
       "    <tr>\n",
       "      <th>97052</th>\n",
       "      <td>/ORGANIZATION/SYNOS-TECHNOLOGY</td>\n",
       "      <td>/funding-round/ef5cac3f4889391e88670a63fc795d48</td>\n",
       "      <td>private_equity</td>\n",
       "      <td>NaN</td>\n",
       "      <td>08-06-2012</td>\n",
       "      <td>14999999.00000</td>\n",
       "      <td>Synos Technology</td>\n",
       "      <td>http://synos.com</td>\n",
       "      <td>Manufacturing</td>\n",
       "      <td>acquired</td>\n",
       "      <td>USA</td>\n",
       "      <td>CA</td>\n",
       "      <td>SF Bay Area</td>\n",
       "      <td>Fremont</td>\n",
       "      <td>1/1/2008</td>\n",
       "    </tr>\n",
       "    <tr>\n",
       "      <th>93483</th>\n",
       "      <td>/ORGANIZATION/SPIDERCLOUD-WIRELESS</td>\n",
       "      <td>/funding-round/f075bcbb79bf46485b861e01aaad62d8</td>\n",
       "      <td>venture</td>\n",
       "      <td>NaN</td>\n",
       "      <td>06-01-2015</td>\n",
       "      <td>14999999.00000</td>\n",
       "      <td>SpiderCloud Wireless</td>\n",
       "      <td>http://www.spidercloud.com</td>\n",
       "      <td>Enterprise Software</td>\n",
       "      <td>operating</td>\n",
       "      <td>USA</td>\n",
       "      <td>CA</td>\n",
       "      <td>SF Bay Area</td>\n",
       "      <td>San Jose</td>\n",
       "      <td>1/1/2007</td>\n",
       "    </tr>\n",
       "    <tr>\n",
       "      <th>...</th>\n",
       "      <td>...</td>\n",
       "      <td>...</td>\n",
       "      <td>...</td>\n",
       "      <td>...</td>\n",
       "      <td>...</td>\n",
       "      <td>...</td>\n",
       "      <td>...</td>\n",
       "      <td>...</td>\n",
       "      <td>...</td>\n",
       "      <td>...</td>\n",
       "      <td>...</td>\n",
       "      <td>...</td>\n",
       "      <td>...</td>\n",
       "      <td>...</td>\n",
       "      <td>...</td>\n",
       "    </tr>\n",
       "    <tr>\n",
       "      <th>97941</th>\n",
       "      <td>/ORGANIZATION/TARANA-WIRELESS</td>\n",
       "      <td>/funding-round/c182804af960d8b6fb92f6300ff281fc</td>\n",
       "      <td>venture</td>\n",
       "      <td>NaN</td>\n",
       "      <td>19-07-2012</td>\n",
       "      <td>5000001.00000</td>\n",
       "      <td>Tarana Wireless</td>\n",
       "      <td>http://www.taranawireless.com</td>\n",
       "      <td>Mobile|Wireless</td>\n",
       "      <td>operating</td>\n",
       "      <td>USA</td>\n",
       "      <td>CA</td>\n",
       "      <td>SF Bay Area</td>\n",
       "      <td>Santa Clara</td>\n",
       "      <td>1/1/2009</td>\n",
       "    </tr>\n",
       "    <tr>\n",
       "      <th>53499</th>\n",
       "      <td>/ORGANIZATION/KNOWLEDGE-FACTOR</td>\n",
       "      <td>/funding-round/e54b5e5b9adf4817312b14ba2b18913d</td>\n",
       "      <td>venture</td>\n",
       "      <td>NaN</td>\n",
       "      <td>18-06-2012</td>\n",
       "      <td>5000001.00000</td>\n",
       "      <td>Knowledge Factor</td>\n",
       "      <td>http://knowledgefactor.com</td>\n",
       "      <td>Software</td>\n",
       "      <td>operating</td>\n",
       "      <td>USA</td>\n",
       "      <td>CO</td>\n",
       "      <td>Denver</td>\n",
       "      <td>Boulder</td>\n",
       "      <td>1/1/2000</td>\n",
       "    </tr>\n",
       "    <tr>\n",
       "      <th>97992</th>\n",
       "      <td>/ORGANIZATION/TARIS-BIOMEDICAL</td>\n",
       "      <td>/funding-round/571aefc45cc860b5218ef6906ac1283a</td>\n",
       "      <td>venture</td>\n",
       "      <td>NaN</td>\n",
       "      <td>04-12-2009</td>\n",
       "      <td>5000001.00000</td>\n",
       "      <td>TARIS Biomedical</td>\n",
       "      <td>http://www.tarisbiomedical.com</td>\n",
       "      <td>Biotechnology</td>\n",
       "      <td>operating</td>\n",
       "      <td>USA</td>\n",
       "      <td>MA</td>\n",
       "      <td>Boston</td>\n",
       "      <td>Lexington</td>\n",
       "      <td>1/1/2008</td>\n",
       "    </tr>\n",
       "    <tr>\n",
       "      <th>88168</th>\n",
       "      <td>/ORGANIZATION/SETPOINT-MEDICAL</td>\n",
       "      <td>/funding-round/24240fbe6ccd5c1ab36fe7e5b39f43e6</td>\n",
       "      <td>venture</td>\n",
       "      <td>NaN</td>\n",
       "      <td>19-10-2010</td>\n",
       "      <td>5000001.00000</td>\n",
       "      <td>SetPoint Medical</td>\n",
       "      <td>http://www.setpointmedical.com</td>\n",
       "      <td>Biotechnology</td>\n",
       "      <td>operating</td>\n",
       "      <td>USA</td>\n",
       "      <td>CA</td>\n",
       "      <td>Los Angeles</td>\n",
       "      <td>Valencia</td>\n",
       "      <td>1/1/2006</td>\n",
       "    </tr>\n",
       "    <tr>\n",
       "      <th>68331</th>\n",
       "      <td>/ORGANIZATION/NOESIS-ENERGY</td>\n",
       "      <td>/funding-round/7b1e972a47d07fade86e7820e654783e</td>\n",
       "      <td>venture</td>\n",
       "      <td>NaN</td>\n",
       "      <td>23-03-2015</td>\n",
       "      <td>5000001.00000</td>\n",
       "      <td>Noesis</td>\n",
       "      <td>http://www.noesis.com</td>\n",
       "      <td>Clean Energy|Finance Technology|FinTech</td>\n",
       "      <td>operating</td>\n",
       "      <td>USA</td>\n",
       "      <td>TX</td>\n",
       "      <td>Austin</td>\n",
       "      <td>Austin</td>\n",
       "      <td>NaN</td>\n",
       "    </tr>\n",
       "  </tbody>\n",
       "</table>\n",
       "<p>14358 rows × 15 columns</p>\n",
       "</div>"
      ],
      "text/plain": [
       "                                 permalink  \\\n",
       "113931              /ORGANIZATION/ZENVERGE   \n",
       "57840                /ORGANIZATION/LUMINAL   \n",
       "49127         /ORGANIZATION/INTERMOLECULAR   \n",
       "97052       /ORGANIZATION/SYNOS-TECHNOLOGY   \n",
       "93483   /ORGANIZATION/SPIDERCLOUD-WIRELESS   \n",
       "...                                    ...   \n",
       "97941        /ORGANIZATION/TARANA-WIRELESS   \n",
       "53499       /ORGANIZATION/KNOWLEDGE-FACTOR   \n",
       "97992       /ORGANIZATION/TARIS-BIOMEDICAL   \n",
       "88168       /ORGANIZATION/SETPOINT-MEDICAL   \n",
       "68331          /ORGANIZATION/NOESIS-ENERGY   \n",
       "\n",
       "                                funding_round_permalink funding_round_type  \\\n",
       "113931  /funding-round/f6f427e7f16677297e285205fafd351d            venture   \n",
       "57840   /funding-round/5e6ecf78c82785c1dc6dd9ba8d76a9d9            venture   \n",
       "49127   /funding-round/d1df05942624a86ffad2cc3fd6e11ea5            venture   \n",
       "97052   /funding-round/ef5cac3f4889391e88670a63fc795d48     private_equity   \n",
       "93483   /funding-round/f075bcbb79bf46485b861e01aaad62d8            venture   \n",
       "...                                                 ...                ...   \n",
       "97941   /funding-round/c182804af960d8b6fb92f6300ff281fc            venture   \n",
       "53499   /funding-round/e54b5e5b9adf4817312b14ba2b18913d            venture   \n",
       "97992   /funding-round/571aefc45cc860b5218ef6906ac1283a            venture   \n",
       "88168   /funding-round/24240fbe6ccd5c1ab36fe7e5b39f43e6            venture   \n",
       "68331   /funding-round/7b1e972a47d07fade86e7820e654783e            venture   \n",
       "\n",
       "       funding_round_code   funded_at  raised_amount_usd  \\\n",
       "113931                  B  31-10-2007     14999999.00000   \n",
       "57840                 NaN  31-07-2015     14999999.00000   \n",
       "49127                 NaN  10-03-2011     14999999.00000   \n",
       "97052                 NaN  08-06-2012     14999999.00000   \n",
       "93483                 NaN  06-01-2015     14999999.00000   \n",
       "...                   ...         ...                ...   \n",
       "97941                 NaN  19-07-2012      5000001.00000   \n",
       "53499                 NaN  18-06-2012      5000001.00000   \n",
       "97992                 NaN  04-12-2009      5000001.00000   \n",
       "88168                 NaN  19-10-2010      5000001.00000   \n",
       "68331                 NaN  23-03-2015      5000001.00000   \n",
       "\n",
       "                        name                    homepage_url  \\\n",
       "113931              Zenverge         http://www.zenverge.com   \n",
       "57840                Luminal           http://www.luminal.io   \n",
       "49127         Intermolecular   http://www.intermolecular.com   \n",
       "97052       Synos Technology                http://synos.com   \n",
       "93483   SpiderCloud Wireless      http://www.spidercloud.com   \n",
       "...                      ...                             ...   \n",
       "97941        Tarana Wireless   http://www.taranawireless.com   \n",
       "53499       Knowledge Factor      http://knowledgefactor.com   \n",
       "97992       TARIS Biomedical  http://www.tarisbiomedical.com   \n",
       "88168       SetPoint Medical  http://www.setpointmedical.com   \n",
       "68331                 Noesis           http://www.noesis.com   \n",
       "\n",
       "                                           category_list     status  \\\n",
       "113931                                    Semiconductors   acquired   \n",
       "57840   Cloud Computing|Infrastructure|Security|Software  operating   \n",
       "49127                                     Semiconductors        ipo   \n",
       "97052                                      Manufacturing   acquired   \n",
       "93483                                Enterprise Software  operating   \n",
       "...                                                  ...        ...   \n",
       "97941                                    Mobile|Wireless  operating   \n",
       "53499                                           Software  operating   \n",
       "97992                                      Biotechnology  operating   \n",
       "88168                                      Biotechnology  operating   \n",
       "68331            Clean Energy|Finance Technology|FinTech  operating   \n",
       "\n",
       "       country_code state_code       region         city founded_at  \n",
       "113931          USA         CA  SF Bay Area    Cupertino   1/1/2005  \n",
       "57840           USA         MD   Hagerstown    Frederick   1/1/2012  \n",
       "49127           USA         CA  SF Bay Area     San Jose   1/1/2004  \n",
       "97052           USA         CA  SF Bay Area      Fremont   1/1/2008  \n",
       "93483           USA         CA  SF Bay Area     San Jose   1/1/2007  \n",
       "...             ...        ...          ...          ...        ...  \n",
       "97941           USA         CA  SF Bay Area  Santa Clara   1/1/2009  \n",
       "53499           USA         CO       Denver      Boulder   1/1/2000  \n",
       "97992           USA         MA       Boston    Lexington   1/1/2008  \n",
       "88168           USA         CA  Los Angeles     Valencia   1/1/2006  \n",
       "68331           USA         TX       Austin       Austin        NaN  \n",
       "\n",
       "[14358 rows x 15 columns]"
      ]
     },
     "execution_count": 418,
     "metadata": {},
     "output_type": "execute_result"
    }
   ],
   "source": [
    "master_frame"
   ]
  },
  {
   "cell_type": "markdown",
   "metadata": {},
   "source": [
    "### Filter all records of Master frame with only Enlish speaking countries"
   ]
  },
  {
   "cell_type": "code",
   "execution_count": 419,
   "metadata": {},
   "outputs": [],
   "source": [
    "master_frame = master_frame[master_frame['country_code'].isin(english_speaking_countries)] "
   ]
  },
  {
   "cell_type": "markdown",
   "metadata": {},
   "source": [
    "### Anlyze for null values in master_frame"
   ]
  },
  {
   "cell_type": "code",
   "execution_count": 420,
   "metadata": {},
   "outputs": [
    {
     "data": {
      "text/plain": [
       "permalink                     0\n",
       "funding_round_permalink       0\n",
       "funding_round_type            0\n",
       "funding_round_code         3905\n",
       "funded_at                     0\n",
       "raised_amount_usd             0\n",
       "name                          0\n",
       "homepage_url                571\n",
       "category_list                83\n",
       "status                        0\n",
       "country_code                  0\n",
       "state_code                   92\n",
       "region                       53\n",
       "city                         51\n",
       "founded_at                 1763\n",
       "dtype: int64"
      ]
     },
     "execution_count": 420,
     "metadata": {},
     "output_type": "execute_result"
    }
   ],
   "source": [
    "master_frame.isnull().sum()"
   ]
  },
  {
   "cell_type": "markdown",
   "metadata": {},
   "source": [
    "### Remove all records of master_frame which has country code null values"
   ]
  },
  {
   "cell_type": "code",
   "execution_count": 421,
   "metadata": {},
   "outputs": [],
   "source": [
    "master_frame = master_frame[~((master_frame['country_code'].isnull()))] "
   ]
  },
  {
   "cell_type": "markdown",
   "metadata": {},
   "source": [
    "### Get top3 english speaking countries"
   ]
  },
  {
   "cell_type": "code",
   "execution_count": 422,
   "metadata": {},
   "outputs": [
    {
     "data": {
      "text/plain": [
       "country_code\n",
       "USA    10436\n",
       "GBR      596\n",
       "CAN      390\n",
       "IND      253\n",
       "SGP       62\n",
       "AUS       60\n",
       "IRL       57\n",
       "NZL       15\n",
       "NGA        8\n",
       "ZAF        6\n",
       "PAK        4\n",
       "KEN        3\n",
       "PHL        2\n",
       "MLT        1\n",
       "Name: raised_amount_usd, dtype: int64"
      ]
     },
     "execution_count": 422,
     "metadata": {},
     "output_type": "execute_result"
    }
   ],
   "source": [
    "master_frame.groupby('country_code').count().sort_values(ascending=False, by='raised_amount_usd')['raised_amount_usd']"
   ]
  },
  {
   "cell_type": "markdown",
   "metadata": {},
   "source": [
    "### Get top 9 country codes"
   ]
  },
  {
   "cell_type": "code",
   "execution_count": 423,
   "metadata": {},
   "outputs": [],
   "source": [
    "Top_9 = list(master_frame.groupby('country_code').sum('raised_amount_usd').sort_values(ascending=False, by='raised_amount_usd')[:9].index)\n"
   ]
  },
  {
   "cell_type": "markdown",
   "metadata": {},
   "source": [
    "### Filter Masterframe with Top 9 countries"
   ]
  },
  {
   "cell_type": "code",
   "execution_count": 424,
   "metadata": {},
   "outputs": [],
   "source": [
    "master_frame = master_frame[master_frame['country_code'].isin(Top_9)] "
   ]
  },
  {
   "cell_type": "markdown",
   "metadata": {},
   "source": [
    "### Read mapping file"
   ]
  },
  {
   "cell_type": "code",
   "execution_count": 425,
   "metadata": {},
   "outputs": [],
   "source": [
    "mapping = pd.read_csv(\"mapping.csv\")"
   ]
  },
  {
   "cell_type": "markdown",
   "metadata": {},
   "source": [
    "### Map categories to sector"
   ]
  },
  {
   "cell_type": "code",
   "execution_count": 426,
   "metadata": {},
   "outputs": [],
   "source": [
    "mapping_sector = pd.melt(mapping, id_vars=['category_list'], value_vars=['Automotive & Sports', 'Blanks',\n",
    "       'Cleantech / Semiconductors', 'Entertainment', 'Health',\n",
    "       'Manufacturing', 'News, Search and Messaging', 'Others',\n",
    "       'Social, Finance, Analytics, Advertising']) \n",
    "mapping_sector = mapping_sector[mapping_sector['value']==1] "
   ]
  },
  {
   "cell_type": "markdown",
   "metadata": {},
   "source": [
    "### Remove null values in mapping_sector"
   ]
  },
  {
   "cell_type": "code",
   "execution_count": 427,
   "metadata": {},
   "outputs": [],
   "source": [
    "mapping_sector.isnull().sum()\n",
    "mapping_sector = mapping_sector[~mapping_sector['category_list'].isnull()]"
   ]
  },
  {
   "cell_type": "code",
   "execution_count": 428,
   "metadata": {},
   "outputs": [
    {
     "data": {
      "text/plain": [
       "permalink                     0\n",
       "funding_round_permalink       0\n",
       "funding_round_type            0\n",
       "funding_round_code         3899\n",
       "funded_at                     0\n",
       "raised_amount_usd             0\n",
       "name                          0\n",
       "homepage_url                571\n",
       "category_list                83\n",
       "status                        0\n",
       "country_code                  0\n",
       "state_code                   84\n",
       "region                       51\n",
       "city                         49\n",
       "founded_at                 1761\n",
       "dtype: int64"
      ]
     },
     "execution_count": 428,
     "metadata": {},
     "output_type": "execute_result"
    }
   ],
   "source": [
    "master_frame.isnull().sum()"
   ]
  },
  {
   "cell_type": "markdown",
   "metadata": {},
   "source": [
    "### Remove null category_list from Master_frame"
   ]
  },
  {
   "cell_type": "code",
   "execution_count": 429,
   "metadata": {},
   "outputs": [],
   "source": [
    "master_frame = master_frame[~master_frame['category_list'].isnull()]"
   ]
  },
  {
   "cell_type": "markdown",
   "metadata": {},
   "source": [
    "### Function to get category from sector"
   ]
  },
  {
   "cell_type": "code",
   "execution_count": 430,
   "metadata": {},
   "outputs": [],
   "source": [
    "def get_sector(category): \n",
    "    if '|' in category:\n",
    "        split_values = category.split('|')\n",
    "        category = split_values[0] \n",
    "    sector = mapping_sector[mapping_sector['category_list']==category] \n",
    "    if sector is not None and not sector.empty:\n",
    "        return sector['variable'].values[0]  "
   ]
  },
  {
   "cell_type": "code",
   "execution_count": 431,
   "metadata": {},
   "outputs": [],
   "source": [
    "### Create 'sector_category' column contains corresponding sector for each category "
   ]
  },
  {
   "cell_type": "code",
   "execution_count": 432,
   "metadata": {},
   "outputs": [],
   "source": [
    "master_frame['sector_category'] = master_frame['category_list'].apply(lambda x: get_sector(x)) \n",
    " "
   ]
  },
  {
   "cell_type": "code",
   "execution_count": 433,
   "metadata": {},
   "outputs": [
    {
     "data": {
      "text/html": [
       "<div>\n",
       "<style scoped>\n",
       "    .dataframe tbody tr th:only-of-type {\n",
       "        vertical-align: middle;\n",
       "    }\n",
       "\n",
       "    .dataframe tbody tr th {\n",
       "        vertical-align: top;\n",
       "    }\n",
       "\n",
       "    .dataframe thead th {\n",
       "        text-align: right;\n",
       "    }\n",
       "</style>\n",
       "<table border=\"1\" class=\"dataframe\">\n",
       "  <thead>\n",
       "    <tr style=\"text-align: right;\">\n",
       "      <th></th>\n",
       "      <th>permalink</th>\n",
       "      <th>funding_round_permalink</th>\n",
       "      <th>funding_round_type</th>\n",
       "      <th>funding_round_code</th>\n",
       "      <th>funded_at</th>\n",
       "      <th>raised_amount_usd</th>\n",
       "      <th>name</th>\n",
       "      <th>homepage_url</th>\n",
       "      <th>category_list</th>\n",
       "      <th>status</th>\n",
       "      <th>country_code</th>\n",
       "      <th>state_code</th>\n",
       "      <th>region</th>\n",
       "      <th>city</th>\n",
       "      <th>founded_at</th>\n",
       "      <th>sector_category</th>\n",
       "    </tr>\n",
       "  </thead>\n",
       "  <tbody>\n",
       "    <tr>\n",
       "      <th>113931</th>\n",
       "      <td>/ORGANIZATION/ZENVERGE</td>\n",
       "      <td>/funding-round/f6f427e7f16677297e285205fafd351d</td>\n",
       "      <td>venture</td>\n",
       "      <td>B</td>\n",
       "      <td>31-10-2007</td>\n",
       "      <td>14999999.00000</td>\n",
       "      <td>Zenverge</td>\n",
       "      <td>http://www.zenverge.com</td>\n",
       "      <td>Semiconductors</td>\n",
       "      <td>acquired</td>\n",
       "      <td>USA</td>\n",
       "      <td>CA</td>\n",
       "      <td>SF Bay Area</td>\n",
       "      <td>Cupertino</td>\n",
       "      <td>1/1/2005</td>\n",
       "      <td>Cleantech / Semiconductors</td>\n",
       "    </tr>\n",
       "    <tr>\n",
       "      <th>57840</th>\n",
       "      <td>/ORGANIZATION/LUMINAL</td>\n",
       "      <td>/funding-round/5e6ecf78c82785c1dc6dd9ba8d76a9d9</td>\n",
       "      <td>venture</td>\n",
       "      <td>NaN</td>\n",
       "      <td>31-07-2015</td>\n",
       "      <td>14999999.00000</td>\n",
       "      <td>Luminal</td>\n",
       "      <td>http://www.luminal.io</td>\n",
       "      <td>Cloud Computing|Infrastructure|Security|Software</td>\n",
       "      <td>operating</td>\n",
       "      <td>USA</td>\n",
       "      <td>MD</td>\n",
       "      <td>Hagerstown</td>\n",
       "      <td>Frederick</td>\n",
       "      <td>1/1/2012</td>\n",
       "      <td>News, Search and Messaging</td>\n",
       "    </tr>\n",
       "    <tr>\n",
       "      <th>49127</th>\n",
       "      <td>/ORGANIZATION/INTERMOLECULAR</td>\n",
       "      <td>/funding-round/d1df05942624a86ffad2cc3fd6e11ea5</td>\n",
       "      <td>venture</td>\n",
       "      <td>NaN</td>\n",
       "      <td>10-03-2011</td>\n",
       "      <td>14999999.00000</td>\n",
       "      <td>Intermolecular</td>\n",
       "      <td>http://www.intermolecular.com</td>\n",
       "      <td>Semiconductors</td>\n",
       "      <td>ipo</td>\n",
       "      <td>USA</td>\n",
       "      <td>CA</td>\n",
       "      <td>SF Bay Area</td>\n",
       "      <td>San Jose</td>\n",
       "      <td>1/1/2004</td>\n",
       "      <td>Cleantech / Semiconductors</td>\n",
       "    </tr>\n",
       "    <tr>\n",
       "      <th>97052</th>\n",
       "      <td>/ORGANIZATION/SYNOS-TECHNOLOGY</td>\n",
       "      <td>/funding-round/ef5cac3f4889391e88670a63fc795d48</td>\n",
       "      <td>private_equity</td>\n",
       "      <td>NaN</td>\n",
       "      <td>08-06-2012</td>\n",
       "      <td>14999999.00000</td>\n",
       "      <td>Synos Technology</td>\n",
       "      <td>http://synos.com</td>\n",
       "      <td>Manufacturing</td>\n",
       "      <td>acquired</td>\n",
       "      <td>USA</td>\n",
       "      <td>CA</td>\n",
       "      <td>SF Bay Area</td>\n",
       "      <td>Fremont</td>\n",
       "      <td>1/1/2008</td>\n",
       "      <td>Manufacturing</td>\n",
       "    </tr>\n",
       "    <tr>\n",
       "      <th>93483</th>\n",
       "      <td>/ORGANIZATION/SPIDERCLOUD-WIRELESS</td>\n",
       "      <td>/funding-round/f075bcbb79bf46485b861e01aaad62d8</td>\n",
       "      <td>venture</td>\n",
       "      <td>NaN</td>\n",
       "      <td>06-01-2015</td>\n",
       "      <td>14999999.00000</td>\n",
       "      <td>SpiderCloud Wireless</td>\n",
       "      <td>http://www.spidercloud.com</td>\n",
       "      <td>Enterprise Software</td>\n",
       "      <td>operating</td>\n",
       "      <td>USA</td>\n",
       "      <td>CA</td>\n",
       "      <td>SF Bay Area</td>\n",
       "      <td>San Jose</td>\n",
       "      <td>1/1/2007</td>\n",
       "      <td>Others</td>\n",
       "    </tr>\n",
       "    <tr>\n",
       "      <th>...</th>\n",
       "      <td>...</td>\n",
       "      <td>...</td>\n",
       "      <td>...</td>\n",
       "      <td>...</td>\n",
       "      <td>...</td>\n",
       "      <td>...</td>\n",
       "      <td>...</td>\n",
       "      <td>...</td>\n",
       "      <td>...</td>\n",
       "      <td>...</td>\n",
       "      <td>...</td>\n",
       "      <td>...</td>\n",
       "      <td>...</td>\n",
       "      <td>...</td>\n",
       "      <td>...</td>\n",
       "      <td>...</td>\n",
       "    </tr>\n",
       "    <tr>\n",
       "      <th>97941</th>\n",
       "      <td>/ORGANIZATION/TARANA-WIRELESS</td>\n",
       "      <td>/funding-round/c182804af960d8b6fb92f6300ff281fc</td>\n",
       "      <td>venture</td>\n",
       "      <td>NaN</td>\n",
       "      <td>19-07-2012</td>\n",
       "      <td>5000001.00000</td>\n",
       "      <td>Tarana Wireless</td>\n",
       "      <td>http://www.taranawireless.com</td>\n",
       "      <td>Mobile|Wireless</td>\n",
       "      <td>operating</td>\n",
       "      <td>USA</td>\n",
       "      <td>CA</td>\n",
       "      <td>SF Bay Area</td>\n",
       "      <td>Santa Clara</td>\n",
       "      <td>1/1/2009</td>\n",
       "      <td>News, Search and Messaging</td>\n",
       "    </tr>\n",
       "    <tr>\n",
       "      <th>53499</th>\n",
       "      <td>/ORGANIZATION/KNOWLEDGE-FACTOR</td>\n",
       "      <td>/funding-round/e54b5e5b9adf4817312b14ba2b18913d</td>\n",
       "      <td>venture</td>\n",
       "      <td>NaN</td>\n",
       "      <td>18-06-2012</td>\n",
       "      <td>5000001.00000</td>\n",
       "      <td>Knowledge Factor</td>\n",
       "      <td>http://knowledgefactor.com</td>\n",
       "      <td>Software</td>\n",
       "      <td>operating</td>\n",
       "      <td>USA</td>\n",
       "      <td>CO</td>\n",
       "      <td>Denver</td>\n",
       "      <td>Boulder</td>\n",
       "      <td>1/1/2000</td>\n",
       "      <td>Others</td>\n",
       "    </tr>\n",
       "    <tr>\n",
       "      <th>97992</th>\n",
       "      <td>/ORGANIZATION/TARIS-BIOMEDICAL</td>\n",
       "      <td>/funding-round/571aefc45cc860b5218ef6906ac1283a</td>\n",
       "      <td>venture</td>\n",
       "      <td>NaN</td>\n",
       "      <td>04-12-2009</td>\n",
       "      <td>5000001.00000</td>\n",
       "      <td>TARIS Biomedical</td>\n",
       "      <td>http://www.tarisbiomedical.com</td>\n",
       "      <td>Biotechnology</td>\n",
       "      <td>operating</td>\n",
       "      <td>USA</td>\n",
       "      <td>MA</td>\n",
       "      <td>Boston</td>\n",
       "      <td>Lexington</td>\n",
       "      <td>1/1/2008</td>\n",
       "      <td>Cleantech / Semiconductors</td>\n",
       "    </tr>\n",
       "    <tr>\n",
       "      <th>88168</th>\n",
       "      <td>/ORGANIZATION/SETPOINT-MEDICAL</td>\n",
       "      <td>/funding-round/24240fbe6ccd5c1ab36fe7e5b39f43e6</td>\n",
       "      <td>venture</td>\n",
       "      <td>NaN</td>\n",
       "      <td>19-10-2010</td>\n",
       "      <td>5000001.00000</td>\n",
       "      <td>SetPoint Medical</td>\n",
       "      <td>http://www.setpointmedical.com</td>\n",
       "      <td>Biotechnology</td>\n",
       "      <td>operating</td>\n",
       "      <td>USA</td>\n",
       "      <td>CA</td>\n",
       "      <td>Los Angeles</td>\n",
       "      <td>Valencia</td>\n",
       "      <td>1/1/2006</td>\n",
       "      <td>Cleantech / Semiconductors</td>\n",
       "    </tr>\n",
       "    <tr>\n",
       "      <th>68331</th>\n",
       "      <td>/ORGANIZATION/NOESIS-ENERGY</td>\n",
       "      <td>/funding-round/7b1e972a47d07fade86e7820e654783e</td>\n",
       "      <td>venture</td>\n",
       "      <td>NaN</td>\n",
       "      <td>23-03-2015</td>\n",
       "      <td>5000001.00000</td>\n",
       "      <td>Noesis</td>\n",
       "      <td>http://www.noesis.com</td>\n",
       "      <td>Clean Energy|Finance Technology|FinTech</td>\n",
       "      <td>operating</td>\n",
       "      <td>USA</td>\n",
       "      <td>TX</td>\n",
       "      <td>Austin</td>\n",
       "      <td>Austin</td>\n",
       "      <td>NaN</td>\n",
       "      <td>Cleantech / Semiconductors</td>\n",
       "    </tr>\n",
       "  </tbody>\n",
       "</table>\n",
       "<p>11794 rows × 16 columns</p>\n",
       "</div>"
      ],
      "text/plain": [
       "                                 permalink  \\\n",
       "113931              /ORGANIZATION/ZENVERGE   \n",
       "57840                /ORGANIZATION/LUMINAL   \n",
       "49127         /ORGANIZATION/INTERMOLECULAR   \n",
       "97052       /ORGANIZATION/SYNOS-TECHNOLOGY   \n",
       "93483   /ORGANIZATION/SPIDERCLOUD-WIRELESS   \n",
       "...                                    ...   \n",
       "97941        /ORGANIZATION/TARANA-WIRELESS   \n",
       "53499       /ORGANIZATION/KNOWLEDGE-FACTOR   \n",
       "97992       /ORGANIZATION/TARIS-BIOMEDICAL   \n",
       "88168       /ORGANIZATION/SETPOINT-MEDICAL   \n",
       "68331          /ORGANIZATION/NOESIS-ENERGY   \n",
       "\n",
       "                                funding_round_permalink funding_round_type  \\\n",
       "113931  /funding-round/f6f427e7f16677297e285205fafd351d            venture   \n",
       "57840   /funding-round/5e6ecf78c82785c1dc6dd9ba8d76a9d9            venture   \n",
       "49127   /funding-round/d1df05942624a86ffad2cc3fd6e11ea5            venture   \n",
       "97052   /funding-round/ef5cac3f4889391e88670a63fc795d48     private_equity   \n",
       "93483   /funding-round/f075bcbb79bf46485b861e01aaad62d8            venture   \n",
       "...                                                 ...                ...   \n",
       "97941   /funding-round/c182804af960d8b6fb92f6300ff281fc            venture   \n",
       "53499   /funding-round/e54b5e5b9adf4817312b14ba2b18913d            venture   \n",
       "97992   /funding-round/571aefc45cc860b5218ef6906ac1283a            venture   \n",
       "88168   /funding-round/24240fbe6ccd5c1ab36fe7e5b39f43e6            venture   \n",
       "68331   /funding-round/7b1e972a47d07fade86e7820e654783e            venture   \n",
       "\n",
       "       funding_round_code   funded_at  raised_amount_usd  \\\n",
       "113931                  B  31-10-2007     14999999.00000   \n",
       "57840                 NaN  31-07-2015     14999999.00000   \n",
       "49127                 NaN  10-03-2011     14999999.00000   \n",
       "97052                 NaN  08-06-2012     14999999.00000   \n",
       "93483                 NaN  06-01-2015     14999999.00000   \n",
       "...                   ...         ...                ...   \n",
       "97941                 NaN  19-07-2012      5000001.00000   \n",
       "53499                 NaN  18-06-2012      5000001.00000   \n",
       "97992                 NaN  04-12-2009      5000001.00000   \n",
       "88168                 NaN  19-10-2010      5000001.00000   \n",
       "68331                 NaN  23-03-2015      5000001.00000   \n",
       "\n",
       "                        name                    homepage_url  \\\n",
       "113931              Zenverge         http://www.zenverge.com   \n",
       "57840                Luminal           http://www.luminal.io   \n",
       "49127         Intermolecular   http://www.intermolecular.com   \n",
       "97052       Synos Technology                http://synos.com   \n",
       "93483   SpiderCloud Wireless      http://www.spidercloud.com   \n",
       "...                      ...                             ...   \n",
       "97941        Tarana Wireless   http://www.taranawireless.com   \n",
       "53499       Knowledge Factor      http://knowledgefactor.com   \n",
       "97992       TARIS Biomedical  http://www.tarisbiomedical.com   \n",
       "88168       SetPoint Medical  http://www.setpointmedical.com   \n",
       "68331                 Noesis           http://www.noesis.com   \n",
       "\n",
       "                                           category_list     status  \\\n",
       "113931                                    Semiconductors   acquired   \n",
       "57840   Cloud Computing|Infrastructure|Security|Software  operating   \n",
       "49127                                     Semiconductors        ipo   \n",
       "97052                                      Manufacturing   acquired   \n",
       "93483                                Enterprise Software  operating   \n",
       "...                                                  ...        ...   \n",
       "97941                                    Mobile|Wireless  operating   \n",
       "53499                                           Software  operating   \n",
       "97992                                      Biotechnology  operating   \n",
       "88168                                      Biotechnology  operating   \n",
       "68331            Clean Energy|Finance Technology|FinTech  operating   \n",
       "\n",
       "       country_code state_code       region         city founded_at  \\\n",
       "113931          USA         CA  SF Bay Area    Cupertino   1/1/2005   \n",
       "57840           USA         MD   Hagerstown    Frederick   1/1/2012   \n",
       "49127           USA         CA  SF Bay Area     San Jose   1/1/2004   \n",
       "97052           USA         CA  SF Bay Area      Fremont   1/1/2008   \n",
       "93483           USA         CA  SF Bay Area     San Jose   1/1/2007   \n",
       "...             ...        ...          ...          ...        ...   \n",
       "97941           USA         CA  SF Bay Area  Santa Clara   1/1/2009   \n",
       "53499           USA         CO       Denver      Boulder   1/1/2000   \n",
       "97992           USA         MA       Boston    Lexington   1/1/2008   \n",
       "88168           USA         CA  Los Angeles     Valencia   1/1/2006   \n",
       "68331           USA         TX       Austin       Austin        NaN   \n",
       "\n",
       "                   sector_category  \n",
       "113931  Cleantech / Semiconductors  \n",
       "57840   News, Search and Messaging  \n",
       "49127   Cleantech / Semiconductors  \n",
       "97052                Manufacturing  \n",
       "93483                       Others  \n",
       "...                            ...  \n",
       "97941   News, Search and Messaging  \n",
       "53499                       Others  \n",
       "97992   Cleantech / Semiconductors  \n",
       "88168   Cleantech / Semiconductors  \n",
       "68331   Cleantech / Semiconductors  \n",
       "\n",
       "[11794 rows x 16 columns]"
      ]
     },
     "execution_count": 433,
     "metadata": {},
     "output_type": "execute_result"
    }
   ],
   "source": [
    "master_frame"
   ]
  },
  {
   "cell_type": "markdown",
   "metadata": {},
   "source": [
    "### d1 dataframe for country USA"
   ]
  },
  {
   "cell_type": "code",
   "execution_count": 434,
   "metadata": {},
   "outputs": [],
   "source": [
    "d1 = master_frame[master_frame['country_code']=='USA'] "
   ]
  },
  {
   "cell_type": "code",
   "execution_count": 435,
   "metadata": {},
   "outputs": [
    {
     "name": "stdout",
     "output_type": "stream",
     "text": [
      "The total number of investments for USA is 10365\n"
     ]
    }
   ],
   "source": [
    "print(f'The total number of investments for USA is {d1.shape[0]}')"
   ]
  },
  {
   "cell_type": "code",
   "execution_count": 436,
   "metadata": {},
   "outputs": [
    {
     "name": "stdout",
     "output_type": "stream",
     "text": [
      "The total sum of investments for USA is 92271774220.0\n"
     ]
    }
   ],
   "source": [
    "print(f'The total sum of investments for USA is {d1[\"raised_amount_usd\"].sum()}')"
   ]
  },
  {
   "cell_type": "markdown",
   "metadata": {},
   "source": [
    "### d2 Filter records for GBR"
   ]
  },
  {
   "cell_type": "code",
   "execution_count": 437,
   "metadata": {},
   "outputs": [],
   "source": [
    "d2 = master_frame[master_frame['country_code']=='GBR']\n"
   ]
  },
  {
   "cell_type": "code",
   "execution_count": 438,
   "metadata": {},
   "outputs": [
    {
     "name": "stdout",
     "output_type": "stream",
     "text": [
      "The total number of investments for GBR is 589\n"
     ]
    }
   ],
   "source": [
    "print(f'The total number of investments for GBR is {d2.shape[0]}')"
   ]
  },
  {
   "cell_type": "code",
   "execution_count": 439,
   "metadata": {},
   "outputs": [
    {
     "name": "stdout",
     "output_type": "stream",
     "text": [
      "The total sum of investments for GBR is 5127954540.0\n"
     ]
    }
   ],
   "source": [
    "print(f'The total sum of investments for GBR is {d2[\"raised_amount_usd\"].sum()}')"
   ]
  },
  {
   "cell_type": "markdown",
   "metadata": {},
   "source": [
    "### d3 Filter records for CAN"
   ]
  },
  {
   "cell_type": "code",
   "execution_count": 440,
   "metadata": {},
   "outputs": [],
   "source": [
    "d3 = master_frame[master_frame['country_code']=='CAN']   "
   ]
  },
  {
   "cell_type": "code",
   "execution_count": 441,
   "metadata": {},
   "outputs": [
    {
     "name": "stdout",
     "output_type": "stream",
     "text": [
      "The total number of investments for CAN is 387\n"
     ]
    }
   ],
   "source": [
    "print(f'The total number of investments for CAN is {d3.shape[0]}')"
   ]
  },
  {
   "cell_type": "code",
   "execution_count": 442,
   "metadata": {},
   "outputs": [
    {
     "name": "stdout",
     "output_type": "stream",
     "text": [
      "The total sum of investments for CAN is 3337203126.0\n"
     ]
    }
   ],
   "source": [
    "print(f'The total sum of investments for CAN is {d3[\"raised_amount_usd\"].sum()}')"
   ]
  },
  {
   "cell_type": "markdown",
   "metadata": {},
   "source": [
    "### function to group record sectorwise"
   ]
  },
  {
   "cell_type": "code",
   "execution_count": 443,
   "metadata": {},
   "outputs": [],
   "source": [
    "def get_sectors(df):\n",
    "    return df.groupby(['sector_category']).count()['raised_amount_usd'].sort_values(ascending=False)   "
   ]
  },
  {
   "cell_type": "markdown",
   "metadata": {},
   "source": [
    "### Get sectors fo USA"
   ]
  },
  {
   "cell_type": "code",
   "execution_count": 444,
   "metadata": {},
   "outputs": [
    {
     "data": {
      "text/plain": [
       "sector_category\n",
       "Others                                     2499\n",
       "Social, Finance, Analytics, Advertising    2306\n",
       "Cleantech / Semiconductors                 2044\n",
       "News, Search and Messaging                 1318\n",
       "Health                                      800\n",
       "Manufacturing                               709\n",
       "Entertainment                               492\n",
       "Automotive & Sports                         151\n",
       "Name: raised_amount_usd, dtype: int64"
      ]
     },
     "execution_count": 444,
     "metadata": {},
     "output_type": "execute_result"
    }
   ],
   "source": [
    "get_sectors(d1)"
   ]
  },
  {
   "cell_type": "markdown",
   "metadata": {},
   "source": [
    "### get sectors for GBR"
   ]
  },
  {
   "cell_type": "code",
   "execution_count": 445,
   "metadata": {},
   "outputs": [
    {
     "data": {
      "text/plain": [
       "sector_category\n",
       "Others                                     133\n",
       "Cleantech / Semiconductors                 127\n",
       "Social, Finance, Analytics, Advertising    126\n",
       "News, Search and Messaging                  72\n",
       "Entertainment                               49\n",
       "Manufacturing                               41\n",
       "Health                                      24\n",
       "Automotive & Sports                         15\n",
       "Name: raised_amount_usd, dtype: int64"
      ]
     },
     "execution_count": 445,
     "metadata": {},
     "output_type": "execute_result"
    }
   ],
   "source": [
    "get_sectors(d2)"
   ]
  },
  {
   "cell_type": "markdown",
   "metadata": {},
   "source": [
    "### sectors wise data for Can"
   ]
  },
  {
   "cell_type": "code",
   "execution_count": 446,
   "metadata": {},
   "outputs": [
    {
     "data": {
      "text/plain": [
       "sector_category\n",
       "Cleantech / Semiconductors                 108\n",
       "Others                                     101\n",
       "Social, Finance, Analytics, Advertising     73\n",
       "News, Search and Messaging                  40\n",
       "Manufacturing                               29\n",
       "Health                                      19\n",
       "Entertainment                               16\n",
       "Automotive & Sports                          1\n",
       "Name: raised_amount_usd, dtype: int64"
      ]
     },
     "execution_count": 446,
     "metadata": {},
     "output_type": "execute_result"
    }
   ],
   "source": [
    "get_sectors(d3)"
   ]
  },
  {
   "cell_type": "code",
   "execution_count": 447,
   "metadata": {},
   "outputs": [
    {
     "data": {
      "text/plain": [
       "'SpiderCloud Wireless'"
      ]
     },
     "execution_count": 447,
     "metadata": {},
     "output_type": "execute_result"
    }
   ],
   "source": [
    "d1[d1['sector_category']=='Others'].sort_values(ascending=False, by='raised_amount_usd')['name'].head(1).values[0]"
   ]
  },
  {
   "cell_type": "code",
   "execution_count": 448,
   "metadata": {},
   "outputs": [
    {
     "data": {
      "text/plain": [
       "'Flite'"
      ]
     },
     "execution_count": 448,
     "metadata": {},
     "output_type": "execute_result"
    }
   ],
   "source": [
    "d1[d1['sector_category']=='Social, Finance, Analytics, Advertising'].sort_values(ascending=False, by='raised_amount_usd')['name'].head(1).values[0]"
   ]
  },
  {
   "cell_type": "code",
   "execution_count": 449,
   "metadata": {},
   "outputs": [
    {
     "data": {
      "text/plain": [
       "'SportPursuit'"
      ]
     },
     "execution_count": 449,
     "metadata": {},
     "output_type": "execute_result"
    }
   ],
   "source": [
    "d2[d2['sector_category']=='Social, Finance, Analytics, Advertising'].sort_values(ascending=False, by='raised_amount_usd')['name'].head(1).values[0]"
   ]
  },
  {
   "cell_type": "code",
   "execution_count": 450,
   "metadata": {},
   "outputs": [
    {
     "data": {
      "text/plain": [
       "'MyOptique Group'"
      ]
     },
     "execution_count": 450,
     "metadata": {},
     "output_type": "execute_result"
    }
   ],
   "source": [
    "d2[d2['sector_category']=='Others'].sort_values(ascending=False, by='raised_amount_usd')['name'].head(1).values[0]"
   ]
  },
  {
   "cell_type": "code",
   "execution_count": 451,
   "metadata": {},
   "outputs": [
    {
     "data": {
      "text/plain": [
       "'FilterBoxx Water & Environmental'"
      ]
     },
     "execution_count": 451,
     "metadata": {},
     "output_type": "execute_result"
    }
   ],
   "source": [
    "d3[d3['sector_category']=='Cleantech / Semiconductors'].sort_values(ascending=False, by='raised_amount_usd')['name'].head(1).values[0]"
   ]
  },
  {
   "cell_type": "code",
   "execution_count": 452,
   "metadata": {},
   "outputs": [
    {
     "data": {
      "text/plain": [
       "'NewStep Networks'"
      ]
     },
     "execution_count": 452,
     "metadata": {},
     "output_type": "execute_result"
    }
   ],
   "source": [
    "d3[d3['sector_category']=='Others'].sort_values(ascending=False, by='raised_amount_usd')['name'].head(1).values[0]"
   ]
  },
  {
   "cell_type": "markdown",
   "metadata": {},
   "source": [
    "# Plots"
   ]
  },
  {
   "cell_type": "code",
   "execution_count": 453,
   "metadata": {},
   "outputs": [
    {
     "data": {
      "image/png": "[encoded data removed]",
      "text/plain": [
       "<Figure size 432x288 with 1 Axes>"
      ]
     },
     "metadata": {},
     "output_type": "display_data"
    }
   ],
   "source": [
    "sns.boxplot(x='funding_round_type', y='raised_amount_usd', data=master_frame)\n",
    "ax.set(xlabel=\"Fund type\", ylabel=\"Amount in USD\")\n",
    "plt.title(\"Fund type vs Amount in USD\")\n",
    "plt.show()"
   ]
  },
  {
   "cell_type": "code",
   "execution_count": 454,
   "metadata": {},
   "outputs": [
    {
     "data": {
      "image/png": "[encoded data removed]",
      "text/plain": [
       "<Figure size 432x288 with 1 Axes>"
      ]
     },
     "metadata": {},
     "output_type": "display_data"
    }
   ],
   "source": [
    "Top_9_countries = master_frame.groupby('country_code').sum('raised_amount_usd') \n",
    "ax = sns.barplot(x= Top_9_countries.index,y = 'raised_amount_usd',data = Top_9_countries, order=Top_9_countries.sort_values('raised_amount_usd',ascending = False).index)\n",
    "ax.set(xlabel=\"Countries\", ylabel=\"Amount in USD\")\n",
    "plt.title(\"Investment in Top 9 countries\")\n",
    "\n",
    "plt.show()"
   ]
  },
  {
   "cell_type": "code",
   "execution_count": 505,
   "metadata": {},
   "outputs": [
    {
     "data": {
      "image/png": "[encoded data removed]",
      "text/plain": [
       "<Figure size 432x288 with 1 Axes>"
      ]
     },
     "metadata": {},
     "output_type": "display_data"
    }
   ],
   "source": [
    "Top3_country = master_frame[master_frame['country_code'].isin(['USA','GBR','CAN'])] \n",
    "Top3_country.groupby(['country_code','funding_round_type']).raised_amount_usd.sum().unstack(1).plot.bar(log=True)\n",
    "plt.legend(loc='center left', bbox_to_anchor=(1.0, 0.5))\n",
    "plt.xlabel('Country')\n",
    "plt.ylabel('Sum of investment')\n",
    "plt.title('Investment in Top 3 countries - Top 3 sectors')\n",
    "plt.show()\n",
    "#master_frame[master_frame['country_code'].isin(['USA','GBR','CAN'])].groupby(['country_code','funding_round_type']).sum('raised_amount_usd')\n"
   ]
  }
 ],
 "metadata": {
  "kernelspec": {
   "display_name": "Python 3",
   "language": "python",
   "name": "python3"
  },
  "language_info": {
   "codemirror_mode": {
    "name": "ipython",
    "version": 3
   },
   "file_extension": ".py",
   "mimetype": "text/x-python",
   "name": "python",
   "nbconvert_exporter": "python",
   "pygments_lexer": "ipython3",
   "version": "3.8.5"
  }
 },
 "nbformat": 4,
 "nbformat_minor": 4
}
